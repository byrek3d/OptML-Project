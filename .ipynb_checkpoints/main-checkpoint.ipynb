{
 "cells": [
  {
   "cell_type": "code",
   "execution_count": 1,
   "metadata": {},
   "outputs": [
    {
     "data": {
      "text/plain": [
       "<torch._C.Generator at 0x1a47be50670>"
      ]
     },
     "execution_count": 1,
     "metadata": {},
     "output_type": "execute_result"
    }
   ],
   "source": [
    "import torch\n",
    "import numpy as np\n",
    "from tqdm.notebook import tqdm\n",
    "import torchvision\n",
    "\n",
    "torch.manual_seed(42)"
   ]
  },
  {
   "cell_type": "code",
   "execution_count": 2,
   "metadata": {},
   "outputs": [],
   "source": [
    "scaled_mean= 0.13062754273414612 \n",
    "scaled_std= 0.30810779333114624"
   ]
  },
  {
   "cell_type": "code",
   "execution_count": 3,
   "metadata": {},
   "outputs": [],
   "source": [
    "train_dataset =  torchvision.datasets.MNIST('./data/files/', train=True, transform=torchvision.transforms.Compose([\n",
    "                                                                                       torchvision.transforms.ToTensor(),\n",
    "                                                                                       torchvision.transforms.Normalize(\n",
    "                                                                                         (scaled_mean,), (scaled_std,))\n",
    "                                                                                     ]))\n",
    "test_dataset =   torchvision.datasets.MNIST('./data/files/', train=False, transform=torchvision.transforms.Compose([\n",
    "                                                                                       torchvision.transforms.ToTensor(),\n",
    "                                                                                       torchvision.transforms.Normalize(\n",
    "                                                                                         (scaled_mean,), (scaled_std,))\n",
    "                                                                                     ]))\n",
    "\n"
   ]
  },
  {
   "cell_type": "code",
   "execution_count": 4,
   "metadata": {},
   "outputs": [],
   "source": [
    "train_loader = torch.utils.data.DataLoader(train_dataset, batch_size=64, shuffle=True)\n",
    "\n",
    "test_loader = torch.utils.data.DataLoader(test_dataset, batch_size=64, shuffle=True)"
   ]
  },
  {
   "cell_type": "code",
   "execution_count": 5,
   "metadata": {},
   "outputs": [
    {
     "name": "stdout",
     "output_type": "stream",
     "text": [
      "Size of the train set: 60000, size of the test set: 10000\n"
     ]
    }
   ],
   "source": [
    "print(f\"Size of the train set: {len(train_loader.dataset)}, size of the test set: {len(test_loader.dataset)}\")"
   ]
  },
  {
   "cell_type": "code",
   "execution_count": 6,
   "metadata": {},
   "outputs": [],
   "source": [
    "import matplotlib.pyplot as plt\n",
    "plt.imshow(train_dataset[0][0].numpy().squeeze(), cmap='gray_r');"
   ]
  },
  {
   "cell_type": "code",
   "execution_count": 7,
   "metadata": {},
   "outputs": [
    {
     "data": {
      "text/plain": [
       "torch.Size([1, 28, 28])"
      ]
     },
     "execution_count": 7,
     "metadata": {},
     "output_type": "execute_result"
    }
   ],
   "source": [
    "train_dataset[0][0].shape"
   ]
  },
  {
   "cell_type": "code",
   "execution_count": 8,
   "metadata": {},
   "outputs": [
    {
     "data": {
      "text/plain": [
       "5"
      ]
     },
     "execution_count": 8,
     "metadata": {},
     "output_type": "execute_result"
    }
   ],
   "source": [
    "train_dataset[0][1]"
   ]
  },
  {
   "cell_type": "code",
   "execution_count": 9,
   "metadata": {},
   "outputs": [],
   "source": [
    "import torch.nn as nn\n",
    "class Net(nn.Module):\n",
    "    def __init__(self):\n",
    "        super(Net,self).__init__()\n",
    "        self.linear1 = nn.Linear(28*28, 256) \n",
    "        self.linear2 = nn.Linear(256, 100) \n",
    "        self.final = nn.Linear(100, 10)\n",
    "        self.relu = nn.ReLU()\n",
    "\n",
    "    def forward(self, img): #convert + flatten\n",
    "        x = img.view(-1, 28*28)\n",
    "        x = self.relu(self.linear1(x))\n",
    "        x = self.relu(self.linear2(x))\n",
    "        x = self.final(x)\n",
    "        return x\n"
   ]
  },
  {
   "cell_type": "code",
   "execution_count": 10,
   "metadata": {},
   "outputs": [],
   "source": [
    "def train(model, dataloader, criterion, optimizer):\n",
    "    for x_batch, y_batch in dataloader:\n",
    "        y_pred = model(x_batch)\n",
    "        \n",
    "        loss = criterion(y_pred, y_batch)\n",
    "        \n",
    "        optimizer.zero_grad()\n",
    "        loss.backward()\n",
    "        optimizer.step()"
   ]
  },
  {
   "cell_type": "code",
   "execution_count": 11,
   "metadata": {},
   "outputs": [],
   "source": [
    "import torch.nn.functional as F\n",
    "\n",
    "def test(model, dataloader):\n",
    "    correct = 0.0\n",
    "    total = 0.0\n",
    "\n",
    "    for x_batch, y_batch in dataloader:\n",
    "        with torch.no_grad():\n",
    "            preds = model(x_batch)           # output of linear\n",
    "            probs = F.softmax(preds, dim=1) # probability distribution\n",
    "            preds = probs.argmax(dim=1)      # most probable class (for each sample in the batch)\n",
    "\n",
    "            correct += (preds == y_batch).sum()\n",
    "            total += len(preds)\n",
    "            \n",
    "    return correct / total # accuracy"
   ]
  },
  {
   "cell_type": "markdown",
   "metadata": {},
   "source": [
    "## Constant Learning Rate"
   ]
  },
  {
   "cell_type": "code",
   "execution_count": 12,
   "metadata": {},
   "outputs": [
    {
     "name": "stdout",
     "output_type": "stream",
     "text": [
      "Epoch 0: test accuracy 0.9017\n",
      "Epoch 1: test accuracy 0.9236\n",
      "Epoch 2: test accuracy 0.9345\n",
      "Epoch 3: test accuracy 0.9414\n",
      "Epoch 4: test accuracy 0.9506\n",
      "Epoch 5: test accuracy 0.9534\n",
      "Epoch 6: test accuracy 0.9598\n",
      "Epoch 7: test accuracy 0.9626\n",
      "Epoch 8: test accuracy 0.9643\n",
      "Epoch 9: test accuracy 0.9679\n",
      "Epoch 10: test accuracy 0.969\n",
      "Epoch 11: test accuracy 0.9693\n",
      "Epoch 12: test accuracy 0.969\n",
      "Epoch 13: test accuracy 0.9723\n",
      "Epoch 14: test accuracy 0.9729\n",
      "Epoch 15: test accuracy 0.9735\n",
      "Epoch 16: test accuracy 0.9741\n",
      "Epoch 17: test accuracy 0.9755\n",
      "Epoch 18: test accuracy 0.9754\n",
      "Epoch 19: test accuracy 0.9749\n"
     ]
    }
   ],
   "source": [
    "model = Net()\n",
    "optimizer = torch.optim.SGD(model.parameters(), lr=0.01)\n",
    "for epoch in range(20):\n",
    "    train(model, train_loader, torch.nn.CrossEntropyLoss(), optimizer)\n",
    "    acc = test(model, test_loader)\n",
    "    \n",
    "    print(f'Epoch {epoch}: test accuracy {acc:.4}')"
   ]
  },
  {
   "cell_type": "markdown",
   "metadata": {},
   "source": [
    "## Increasing Learning Rate"
   ]
  },
  {
   "cell_type": "code",
   "execution_count": 16,
   "metadata": {},
   "outputs": [
    {
     "name": "stdout",
     "output_type": "stream",
     "text": [
      "Epoch 0: test accuracy 0.9045\n",
      "Epoch 1: test accuracy 0.9246\n",
      "Epoch 2: test accuracy 0.9354\n",
      "Epoch 3: test accuracy 0.9435\n",
      "Epoch 4: test accuracy 0.9485\n",
      "Epoch 5: test accuracy 0.9563\n",
      "Epoch 6: test accuracy 0.9638\n",
      "Epoch 7: test accuracy 0.9668\n",
      "Epoch 8: test accuracy 0.9706\n",
      "Epoch 9: test accuracy 0.9709\n",
      "Epoch 10: test accuracy 0.9732\n",
      "Epoch 11: test accuracy 0.97\n",
      "Epoch 12: test accuracy 0.9708\n",
      "Epoch 13: test accuracy 0.977\n",
      "Epoch 14: test accuracy 0.978\n",
      "Epoch 15: test accuracy 0.9722\n",
      "Epoch 16: test accuracy 0.9702\n",
      "Epoch 17: test accuracy 0.9746\n",
      "Epoch 18: test accuracy 0.9804\n",
      "Epoch 19: test accuracy 0.9809\n"
     ]
    }
   ],
   "source": [
    "from torch.optim.lr_scheduler import StepLR\n",
    "\n",
    "model = Net()\n",
    "optimizer = torch.optim.SGD(model.parameters(), lr=0.01)\n",
    "scheduler = StepLR(optimizer, step_size=5, gamma=2)\n",
    "\n",
    "for epoch in range(20):\n",
    "    train(model, train_loader, torch.nn.CrossEntropyLoss(), optimizer)\n",
    "    acc = test(model, test_loader)\n",
    "    \n",
    "    scheduler.step()\n",
    "    \n",
    "    print(f'Epoch {epoch}: test accuracy {acc:.4}')"
   ]
  },
  {
   "cell_type": "markdown",
   "metadata": {},
   "source": [
    "## Decaying Learning Rate"
   ]
  },
  {
   "cell_type": "code",
   "execution_count": 20,
   "metadata": {},
   "outputs": [
    {
     "name": "stdout",
     "output_type": "stream",
     "text": [
      "Epoch 0: test accuracy 0.9628\n",
      "Epoch 1: test accuracy 0.9706\n",
      "Epoch 2: test accuracy 0.9671\n",
      "Epoch 3: test accuracy 0.9765\n",
      "Epoch 4: test accuracy 0.9726\n",
      "Epoch 5: test accuracy 0.9827\n",
      "Epoch 6: test accuracy 0.9824\n",
      "Epoch 7: test accuracy 0.983\n",
      "Epoch 8: test accuracy 0.9819\n",
      "Epoch 9: test accuracy 0.9834\n",
      "Epoch 10: test accuracy 0.9826\n",
      "Epoch 11: test accuracy 0.9827\n",
      "Epoch 12: test accuracy 0.9826\n",
      "Epoch 13: test accuracy 0.9822\n",
      "Epoch 14: test accuracy 0.9827\n",
      "Epoch 15: test accuracy 0.9826\n",
      "Epoch 16: test accuracy 0.9826\n",
      "Epoch 17: test accuracy 0.9831\n",
      "Epoch 18: test accuracy 0.9832\n",
      "Epoch 19: test accuracy 0.9828\n"
     ]
    }
   ],
   "source": [
    "from torch.optim.lr_scheduler import StepLR\n",
    "\n",
    "model = Net()\n",
    "optimizer = torch.optim.SGD(model.parameters(), lr=0.1)\n",
    "scheduler = StepLR(optimizer, step_size=5, gamma=1/2)\n",
    "\n",
    "for epoch in range(20):\n",
    "    train(model, train_loader, torch.nn.CrossEntropyLoss(), optimizer)\n",
    "    acc = test(model, test_loader)\n",
    "    \n",
    "    scheduler.step()\n",
    "    \n",
    "    print(f'Epoch {epoch}: test accuracy {acc:.4}')"
   ]
  },
  {
   "cell_type": "code",
   "execution_count": null,
   "metadata": {},
   "outputs": [],
   "source": [
    "Epoch 10: test accuracy 0.9817"
   ]
  },
  {
   "cell_type": "code",
   "execution_count": null,
   "metadata": {},
   "outputs": [],
   "source": []
  },
  {
   "cell_type": "code",
   "execution_count": null,
   "metadata": {},
   "outputs": [],
   "source": []
  },
  {
   "cell_type": "code",
   "execution_count": 17,
   "metadata": {},
   "outputs": [
    {
     "name": "stdout",
     "output_type": "stream",
     "text": [
      "Epoch-1 lr: 0.01\n",
      "Epoch-2 lr: 0.01\n",
      "Epoch-3 lr: 0.01\n",
      "Epoch-4 lr: 0.01\n",
      "Epoch-5 lr: 0.02\n",
      "Epoch-6 lr: 0.02\n",
      "Epoch-7 lr: 0.02\n",
      "Epoch-8 lr: 0.02\n",
      "Epoch-9 lr: 0.02\n",
      "Epoch-10 lr: 0.04\n",
      "Epoch-11 lr: 0.04\n",
      "Epoch-12 lr: 0.04\n",
      "Epoch-13 lr: 0.04\n",
      "Epoch-14 lr: 0.04\n",
      "Epoch-15 lr: 0.08\n",
      "Epoch-16 lr: 0.08\n",
      "Epoch-17 lr: 0.08\n",
      "Epoch-18 lr: 0.08\n",
      "Epoch-19 lr: 0.08\n",
      "Epoch-20 lr: 0.16\n"
     ]
    }
   ],
   "source": [
    "# Just to check how the scheduler will work\n",
    "optimizer = torch.optim.SGD(model.parameters(), lr=0.01)\n",
    "scheduler = StepLR(optimizer, step_size=5, gamma=2)\n",
    "for epoch in range(1, 21):\n",
    "    scheduler.step()\n",
    "    print('Epoch-{0} lr: {1}'.format(epoch, optimizer.param_groups[0]['lr']))\n"
   ]
  },
  {
   "cell_type": "code",
   "execution_count": null,
   "metadata": {},
   "outputs": [],
   "source": []
  }
 ],
 "metadata": {
  "kernelspec": {
   "display_name": "Python 3",
   "language": "python",
   "name": "python3"
  },
  "language_info": {
   "codemirror_mode": {
    "name": "ipython",
    "version": 3
   },
   "file_extension": ".py",
   "mimetype": "text/x-python",
   "name": "python",
   "nbconvert_exporter": "python",
   "pygments_lexer": "ipython3",
   "version": "3.7.4"
  }
 },
 "nbformat": 4,
 "nbformat_minor": 4
}
