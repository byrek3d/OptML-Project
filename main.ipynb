{
  "nbformat": 4,
  "nbformat_minor": 0,
  "metadata": {
    "kernelspec": {
      "display_name": "Python 3",
      "language": "python",
      "name": "python3"
    },
    "language_info": {
      "codemirror_mode": {
        "name": "ipython",
        "version": 3
      },
      "file_extension": ".py",
      "mimetype": "text/x-python",
      "name": "python",
      "nbconvert_exporter": "python",
      "pygments_lexer": "ipython3",
      "version": "3.7.4"
    },
    "colab": {
      "name": "main.ipynb",
      "provenance": []
    },
    "accelerator": "GPU",
    "widgets": {
      "application/vnd.jupyter.widget-state+json": {
        "c85da2967c974e2db024625747b96f2d": {
          "model_module": "@jupyter-widgets/controls",
          "model_name": "HBoxModel",
          "state": {
            "_view_name": "HBoxView",
            "_dom_classes": [],
            "_model_name": "HBoxModel",
            "_view_module": "@jupyter-widgets/controls",
            "_model_module_version": "1.5.0",
            "_view_count": null,
            "_view_module_version": "1.5.0",
            "box_style": "",
            "layout": "IPY_MODEL_bbdaadfaaf724b4f8fdb516b43618bc0",
            "_model_module": "@jupyter-widgets/controls",
            "children": [
              "IPY_MODEL_1e8a1ea00c534d298ef21fa7da878e56",
              "IPY_MODEL_35b3a3d8693d4d568f064405d9bf2e67"
            ]
          }
        },
        "bbdaadfaaf724b4f8fdb516b43618bc0": {
          "model_module": "@jupyter-widgets/base",
          "model_name": "LayoutModel",
          "state": {
            "_view_name": "LayoutView",
            "grid_template_rows": null,
            "right": null,
            "justify_content": null,
            "_view_module": "@jupyter-widgets/base",
            "overflow": null,
            "_model_module_version": "1.2.0",
            "_view_count": null,
            "flex_flow": null,
            "width": null,
            "min_width": null,
            "border": null,
            "align_items": null,
            "bottom": null,
            "_model_module": "@jupyter-widgets/base",
            "top": null,
            "grid_column": null,
            "overflow_y": null,
            "overflow_x": null,
            "grid_auto_flow": null,
            "grid_area": null,
            "grid_template_columns": null,
            "flex": null,
            "_model_name": "LayoutModel",
            "justify_items": null,
            "grid_row": null,
            "max_height": null,
            "align_content": null,
            "visibility": null,
            "align_self": null,
            "height": null,
            "min_height": null,
            "padding": null,
            "grid_auto_rows": null,
            "grid_gap": null,
            "max_width": null,
            "order": null,
            "_view_module_version": "1.2.0",
            "grid_template_areas": null,
            "object_position": null,
            "object_fit": null,
            "grid_auto_columns": null,
            "margin": null,
            "display": null,
            "left": null
          }
        },
        "1e8a1ea00c534d298ef21fa7da878e56": {
          "model_module": "@jupyter-widgets/controls",
          "model_name": "FloatProgressModel",
          "state": {
            "_view_name": "ProgressView",
            "style": "IPY_MODEL_2f1c697a3a4a42cd996326a956f88cfb",
            "_dom_classes": [],
            "description": "",
            "_model_name": "FloatProgressModel",
            "bar_style": "success",
            "max": 9912422,
            "_view_module": "@jupyter-widgets/controls",
            "_model_module_version": "1.5.0",
            "value": 9912422,
            "_view_count": null,
            "_view_module_version": "1.5.0",
            "orientation": "horizontal",
            "min": 0,
            "description_tooltip": null,
            "_model_module": "@jupyter-widgets/controls",
            "layout": "IPY_MODEL_625a44716c044500b7294f2cd7e3b234"
          }
        },
        "35b3a3d8693d4d568f064405d9bf2e67": {
          "model_module": "@jupyter-widgets/controls",
          "model_name": "HTMLModel",
          "state": {
            "_view_name": "HTMLView",
            "style": "IPY_MODEL_47c26fffae4a4f3181bf0c7e58c79c34",
            "_dom_classes": [],
            "description": "",
            "_model_name": "HTMLModel",
            "placeholder": "​",
            "_view_module": "@jupyter-widgets/controls",
            "_model_module_version": "1.5.0",
            "value": " 9913344/? [00:05&lt;00:00, 1944424.09it/s]",
            "_view_count": null,
            "_view_module_version": "1.5.0",
            "description_tooltip": null,
            "_model_module": "@jupyter-widgets/controls",
            "layout": "IPY_MODEL_9661d61079cb43cab22dc26fa329b170"
          }
        },
        "2f1c697a3a4a42cd996326a956f88cfb": {
          "model_module": "@jupyter-widgets/controls",
          "model_name": "ProgressStyleModel",
          "state": {
            "_view_name": "StyleView",
            "_model_name": "ProgressStyleModel",
            "description_width": "initial",
            "_view_module": "@jupyter-widgets/base",
            "_model_module_version": "1.5.0",
            "_view_count": null,
            "_view_module_version": "1.2.0",
            "bar_color": null,
            "_model_module": "@jupyter-widgets/controls"
          }
        },
        "625a44716c044500b7294f2cd7e3b234": {
          "model_module": "@jupyter-widgets/base",
          "model_name": "LayoutModel",
          "state": {
            "_view_name": "LayoutView",
            "grid_template_rows": null,
            "right": null,
            "justify_content": null,
            "_view_module": "@jupyter-widgets/base",
            "overflow": null,
            "_model_module_version": "1.2.0",
            "_view_count": null,
            "flex_flow": null,
            "width": null,
            "min_width": null,
            "border": null,
            "align_items": null,
            "bottom": null,
            "_model_module": "@jupyter-widgets/base",
            "top": null,
            "grid_column": null,
            "overflow_y": null,
            "overflow_x": null,
            "grid_auto_flow": null,
            "grid_area": null,
            "grid_template_columns": null,
            "flex": null,
            "_model_name": "LayoutModel",
            "justify_items": null,
            "grid_row": null,
            "max_height": null,
            "align_content": null,
            "visibility": null,
            "align_self": null,
            "height": null,
            "min_height": null,
            "padding": null,
            "grid_auto_rows": null,
            "grid_gap": null,
            "max_width": null,
            "order": null,
            "_view_module_version": "1.2.0",
            "grid_template_areas": null,
            "object_position": null,
            "object_fit": null,
            "grid_auto_columns": null,
            "margin": null,
            "display": null,
            "left": null
          }
        },
        "47c26fffae4a4f3181bf0c7e58c79c34": {
          "model_module": "@jupyter-widgets/controls",
          "model_name": "DescriptionStyleModel",
          "state": {
            "_view_name": "StyleView",
            "_model_name": "DescriptionStyleModel",
            "description_width": "",
            "_view_module": "@jupyter-widgets/base",
            "_model_module_version": "1.5.0",
            "_view_count": null,
            "_view_module_version": "1.2.0",
            "_model_module": "@jupyter-widgets/controls"
          }
        },
        "9661d61079cb43cab22dc26fa329b170": {
          "model_module": "@jupyter-widgets/base",
          "model_name": "LayoutModel",
          "state": {
            "_view_name": "LayoutView",
            "grid_template_rows": null,
            "right": null,
            "justify_content": null,
            "_view_module": "@jupyter-widgets/base",
            "overflow": null,
            "_model_module_version": "1.2.0",
            "_view_count": null,
            "flex_flow": null,
            "width": null,
            "min_width": null,
            "border": null,
            "align_items": null,
            "bottom": null,
            "_model_module": "@jupyter-widgets/base",
            "top": null,
            "grid_column": null,
            "overflow_y": null,
            "overflow_x": null,
            "grid_auto_flow": null,
            "grid_area": null,
            "grid_template_columns": null,
            "flex": null,
            "_model_name": "LayoutModel",
            "justify_items": null,
            "grid_row": null,
            "max_height": null,
            "align_content": null,
            "visibility": null,
            "align_self": null,
            "height": null,
            "min_height": null,
            "padding": null,
            "grid_auto_rows": null,
            "grid_gap": null,
            "max_width": null,
            "order": null,
            "_view_module_version": "1.2.0",
            "grid_template_areas": null,
            "object_position": null,
            "object_fit": null,
            "grid_auto_columns": null,
            "margin": null,
            "display": null,
            "left": null
          }
        },
        "91055092b05f43589bc8746d69660ce5": {
          "model_module": "@jupyter-widgets/controls",
          "model_name": "HBoxModel",
          "state": {
            "_view_name": "HBoxView",
            "_dom_classes": [],
            "_model_name": "HBoxModel",
            "_view_module": "@jupyter-widgets/controls",
            "_model_module_version": "1.5.0",
            "_view_count": null,
            "_view_module_version": "1.5.0",
            "box_style": "",
            "layout": "IPY_MODEL_e566fa6b35ba4655a28797224a36c123",
            "_model_module": "@jupyter-widgets/controls",
            "children": [
              "IPY_MODEL_abfd44de29d049f0b2600ce48ace26f9",
              "IPY_MODEL_6bfdaffb96fe45c2bdb045156c530a8b"
            ]
          }
        },
        "e566fa6b35ba4655a28797224a36c123": {
          "model_module": "@jupyter-widgets/base",
          "model_name": "LayoutModel",
          "state": {
            "_view_name": "LayoutView",
            "grid_template_rows": null,
            "right": null,
            "justify_content": null,
            "_view_module": "@jupyter-widgets/base",
            "overflow": null,
            "_model_module_version": "1.2.0",
            "_view_count": null,
            "flex_flow": null,
            "width": null,
            "min_width": null,
            "border": null,
            "align_items": null,
            "bottom": null,
            "_model_module": "@jupyter-widgets/base",
            "top": null,
            "grid_column": null,
            "overflow_y": null,
            "overflow_x": null,
            "grid_auto_flow": null,
            "grid_area": null,
            "grid_template_columns": null,
            "flex": null,
            "_model_name": "LayoutModel",
            "justify_items": null,
            "grid_row": null,
            "max_height": null,
            "align_content": null,
            "visibility": null,
            "align_self": null,
            "height": null,
            "min_height": null,
            "padding": null,
            "grid_auto_rows": null,
            "grid_gap": null,
            "max_width": null,
            "order": null,
            "_view_module_version": "1.2.0",
            "grid_template_areas": null,
            "object_position": null,
            "object_fit": null,
            "grid_auto_columns": null,
            "margin": null,
            "display": null,
            "left": null
          }
        },
        "abfd44de29d049f0b2600ce48ace26f9": {
          "model_module": "@jupyter-widgets/controls",
          "model_name": "FloatProgressModel",
          "state": {
            "_view_name": "ProgressView",
            "style": "IPY_MODEL_795d5f976e1a43a1a28a4e2cee133a6c",
            "_dom_classes": [],
            "description": "",
            "_model_name": "FloatProgressModel",
            "bar_style": "success",
            "max": 28881,
            "_view_module": "@jupyter-widgets/controls",
            "_model_module_version": "1.5.0",
            "value": 28881,
            "_view_count": null,
            "_view_module_version": "1.5.0",
            "orientation": "horizontal",
            "min": 0,
            "description_tooltip": null,
            "_model_module": "@jupyter-widgets/controls",
            "layout": "IPY_MODEL_32918b7219974f1b997695ef93fa3616"
          }
        },
        "6bfdaffb96fe45c2bdb045156c530a8b": {
          "model_module": "@jupyter-widgets/controls",
          "model_name": "HTMLModel",
          "state": {
            "_view_name": "HTMLView",
            "style": "IPY_MODEL_afc33f703f734243ba2e79894a3fc85f",
            "_dom_classes": [],
            "description": "",
            "_model_name": "HTMLModel",
            "placeholder": "​",
            "_view_module": "@jupyter-widgets/controls",
            "_model_module_version": "1.5.0",
            "value": " 29696/? [00:02&lt;00:00, 12766.64it/s]",
            "_view_count": null,
            "_view_module_version": "1.5.0",
            "description_tooltip": null,
            "_model_module": "@jupyter-widgets/controls",
            "layout": "IPY_MODEL_9d9f1b26e0444f16800538e329a20efd"
          }
        },
        "795d5f976e1a43a1a28a4e2cee133a6c": {
          "model_module": "@jupyter-widgets/controls",
          "model_name": "ProgressStyleModel",
          "state": {
            "_view_name": "StyleView",
            "_model_name": "ProgressStyleModel",
            "description_width": "initial",
            "_view_module": "@jupyter-widgets/base",
            "_model_module_version": "1.5.0",
            "_view_count": null,
            "_view_module_version": "1.2.0",
            "bar_color": null,
            "_model_module": "@jupyter-widgets/controls"
          }
        },
        "32918b7219974f1b997695ef93fa3616": {
          "model_module": "@jupyter-widgets/base",
          "model_name": "LayoutModel",
          "state": {
            "_view_name": "LayoutView",
            "grid_template_rows": null,
            "right": null,
            "justify_content": null,
            "_view_module": "@jupyter-widgets/base",
            "overflow": null,
            "_model_module_version": "1.2.0",
            "_view_count": null,
            "flex_flow": null,
            "width": null,
            "min_width": null,
            "border": null,
            "align_items": null,
            "bottom": null,
            "_model_module": "@jupyter-widgets/base",
            "top": null,
            "grid_column": null,
            "overflow_y": null,
            "overflow_x": null,
            "grid_auto_flow": null,
            "grid_area": null,
            "grid_template_columns": null,
            "flex": null,
            "_model_name": "LayoutModel",
            "justify_items": null,
            "grid_row": null,
            "max_height": null,
            "align_content": null,
            "visibility": null,
            "align_self": null,
            "height": null,
            "min_height": null,
            "padding": null,
            "grid_auto_rows": null,
            "grid_gap": null,
            "max_width": null,
            "order": null,
            "_view_module_version": "1.2.0",
            "grid_template_areas": null,
            "object_position": null,
            "object_fit": null,
            "grid_auto_columns": null,
            "margin": null,
            "display": null,
            "left": null
          }
        },
        "afc33f703f734243ba2e79894a3fc85f": {
          "model_module": "@jupyter-widgets/controls",
          "model_name": "DescriptionStyleModel",
          "state": {
            "_view_name": "StyleView",
            "_model_name": "DescriptionStyleModel",
            "description_width": "",
            "_view_module": "@jupyter-widgets/base",
            "_model_module_version": "1.5.0",
            "_view_count": null,
            "_view_module_version": "1.2.0",
            "_model_module": "@jupyter-widgets/controls"
          }
        },
        "9d9f1b26e0444f16800538e329a20efd": {
          "model_module": "@jupyter-widgets/base",
          "model_name": "LayoutModel",
          "state": {
            "_view_name": "LayoutView",
            "grid_template_rows": null,
            "right": null,
            "justify_content": null,
            "_view_module": "@jupyter-widgets/base",
            "overflow": null,
            "_model_module_version": "1.2.0",
            "_view_count": null,
            "flex_flow": null,
            "width": null,
            "min_width": null,
            "border": null,
            "align_items": null,
            "bottom": null,
            "_model_module": "@jupyter-widgets/base",
            "top": null,
            "grid_column": null,
            "overflow_y": null,
            "overflow_x": null,
            "grid_auto_flow": null,
            "grid_area": null,
            "grid_template_columns": null,
            "flex": null,
            "_model_name": "LayoutModel",
            "justify_items": null,
            "grid_row": null,
            "max_height": null,
            "align_content": null,
            "visibility": null,
            "align_self": null,
            "height": null,
            "min_height": null,
            "padding": null,
            "grid_auto_rows": null,
            "grid_gap": null,
            "max_width": null,
            "order": null,
            "_view_module_version": "1.2.0",
            "grid_template_areas": null,
            "object_position": null,
            "object_fit": null,
            "grid_auto_columns": null,
            "margin": null,
            "display": null,
            "left": null
          }
        },
        "9fe357a34b16491b91c9029804908bb6": {
          "model_module": "@jupyter-widgets/controls",
          "model_name": "HBoxModel",
          "state": {
            "_view_name": "HBoxView",
            "_dom_classes": [],
            "_model_name": "HBoxModel",
            "_view_module": "@jupyter-widgets/controls",
            "_model_module_version": "1.5.0",
            "_view_count": null,
            "_view_module_version": "1.5.0",
            "box_style": "",
            "layout": "IPY_MODEL_78e9a2f115204091ada0d0290aa1dc9c",
            "_model_module": "@jupyter-widgets/controls",
            "children": [
              "IPY_MODEL_169fbc1c6057492481692660b3f3503c",
              "IPY_MODEL_e928dee314bf424f97640ff7955b9e51"
            ]
          }
        },
        "78e9a2f115204091ada0d0290aa1dc9c": {
          "model_module": "@jupyter-widgets/base",
          "model_name": "LayoutModel",
          "state": {
            "_view_name": "LayoutView",
            "grid_template_rows": null,
            "right": null,
            "justify_content": null,
            "_view_module": "@jupyter-widgets/base",
            "overflow": null,
            "_model_module_version": "1.2.0",
            "_view_count": null,
            "flex_flow": null,
            "width": null,
            "min_width": null,
            "border": null,
            "align_items": null,
            "bottom": null,
            "_model_module": "@jupyter-widgets/base",
            "top": null,
            "grid_column": null,
            "overflow_y": null,
            "overflow_x": null,
            "grid_auto_flow": null,
            "grid_area": null,
            "grid_template_columns": null,
            "flex": null,
            "_model_name": "LayoutModel",
            "justify_items": null,
            "grid_row": null,
            "max_height": null,
            "align_content": null,
            "visibility": null,
            "align_self": null,
            "height": null,
            "min_height": null,
            "padding": null,
            "grid_auto_rows": null,
            "grid_gap": null,
            "max_width": null,
            "order": null,
            "_view_module_version": "1.2.0",
            "grid_template_areas": null,
            "object_position": null,
            "object_fit": null,
            "grid_auto_columns": null,
            "margin": null,
            "display": null,
            "left": null
          }
        },
        "169fbc1c6057492481692660b3f3503c": {
          "model_module": "@jupyter-widgets/controls",
          "model_name": "FloatProgressModel",
          "state": {
            "_view_name": "ProgressView",
            "style": "IPY_MODEL_fc825c3e2a6f4a5c91993fe877206476",
            "_dom_classes": [],
            "description": "",
            "_model_name": "FloatProgressModel",
            "bar_style": "success",
            "max": 1648877,
            "_view_module": "@jupyter-widgets/controls",
            "_model_module_version": "1.5.0",
            "value": 1648877,
            "_view_count": null,
            "_view_module_version": "1.5.0",
            "orientation": "horizontal",
            "min": 0,
            "description_tooltip": null,
            "_model_module": "@jupyter-widgets/controls",
            "layout": "IPY_MODEL_c5fe74c9c9d447b0be7c88d98624f252"
          }
        },
        "e928dee314bf424f97640ff7955b9e51": {
          "model_module": "@jupyter-widgets/controls",
          "model_name": "HTMLModel",
          "state": {
            "_view_name": "HTMLView",
            "style": "IPY_MODEL_0d86aa88194d4376b64801d7c818a35b",
            "_dom_classes": [],
            "description": "",
            "_model_name": "HTMLModel",
            "placeholder": "​",
            "_view_module": "@jupyter-widgets/controls",
            "_model_module_version": "1.5.0",
            "value": " 1649664/? [00:01&lt;00:00, 1573684.27it/s]",
            "_view_count": null,
            "_view_module_version": "1.5.0",
            "description_tooltip": null,
            "_model_module": "@jupyter-widgets/controls",
            "layout": "IPY_MODEL_9eebe5aa2b6243d8951c0b1998ba4b94"
          }
        },
        "fc825c3e2a6f4a5c91993fe877206476": {
          "model_module": "@jupyter-widgets/controls",
          "model_name": "ProgressStyleModel",
          "state": {
            "_view_name": "StyleView",
            "_model_name": "ProgressStyleModel",
            "description_width": "initial",
            "_view_module": "@jupyter-widgets/base",
            "_model_module_version": "1.5.0",
            "_view_count": null,
            "_view_module_version": "1.2.0",
            "bar_color": null,
            "_model_module": "@jupyter-widgets/controls"
          }
        },
        "c5fe74c9c9d447b0be7c88d98624f252": {
          "model_module": "@jupyter-widgets/base",
          "model_name": "LayoutModel",
          "state": {
            "_view_name": "LayoutView",
            "grid_template_rows": null,
            "right": null,
            "justify_content": null,
            "_view_module": "@jupyter-widgets/base",
            "overflow": null,
            "_model_module_version": "1.2.0",
            "_view_count": null,
            "flex_flow": null,
            "width": null,
            "min_width": null,
            "border": null,
            "align_items": null,
            "bottom": null,
            "_model_module": "@jupyter-widgets/base",
            "top": null,
            "grid_column": null,
            "overflow_y": null,
            "overflow_x": null,
            "grid_auto_flow": null,
            "grid_area": null,
            "grid_template_columns": null,
            "flex": null,
            "_model_name": "LayoutModel",
            "justify_items": null,
            "grid_row": null,
            "max_height": null,
            "align_content": null,
            "visibility": null,
            "align_self": null,
            "height": null,
            "min_height": null,
            "padding": null,
            "grid_auto_rows": null,
            "grid_gap": null,
            "max_width": null,
            "order": null,
            "_view_module_version": "1.2.0",
            "grid_template_areas": null,
            "object_position": null,
            "object_fit": null,
            "grid_auto_columns": null,
            "margin": null,
            "display": null,
            "left": null
          }
        },
        "0d86aa88194d4376b64801d7c818a35b": {
          "model_module": "@jupyter-widgets/controls",
          "model_name": "DescriptionStyleModel",
          "state": {
            "_view_name": "StyleView",
            "_model_name": "DescriptionStyleModel",
            "description_width": "",
            "_view_module": "@jupyter-widgets/base",
            "_model_module_version": "1.5.0",
            "_view_count": null,
            "_view_module_version": "1.2.0",
            "_model_module": "@jupyter-widgets/controls"
          }
        },
        "9eebe5aa2b6243d8951c0b1998ba4b94": {
          "model_module": "@jupyter-widgets/base",
          "model_name": "LayoutModel",
          "state": {
            "_view_name": "LayoutView",
            "grid_template_rows": null,
            "right": null,
            "justify_content": null,
            "_view_module": "@jupyter-widgets/base",
            "overflow": null,
            "_model_module_version": "1.2.0",
            "_view_count": null,
            "flex_flow": null,
            "width": null,
            "min_width": null,
            "border": null,
            "align_items": null,
            "bottom": null,
            "_model_module": "@jupyter-widgets/base",
            "top": null,
            "grid_column": null,
            "overflow_y": null,
            "overflow_x": null,
            "grid_auto_flow": null,
            "grid_area": null,
            "grid_template_columns": null,
            "flex": null,
            "_model_name": "LayoutModel",
            "justify_items": null,
            "grid_row": null,
            "max_height": null,
            "align_content": null,
            "visibility": null,
            "align_self": null,
            "height": null,
            "min_height": null,
            "padding": null,
            "grid_auto_rows": null,
            "grid_gap": null,
            "max_width": null,
            "order": null,
            "_view_module_version": "1.2.0",
            "grid_template_areas": null,
            "object_position": null,
            "object_fit": null,
            "grid_auto_columns": null,
            "margin": null,
            "display": null,
            "left": null
          }
        },
        "c5edd9acefdc41649368d517e00e70ed": {
          "model_module": "@jupyter-widgets/controls",
          "model_name": "HBoxModel",
          "state": {
            "_view_name": "HBoxView",
            "_dom_classes": [],
            "_model_name": "HBoxModel",
            "_view_module": "@jupyter-widgets/controls",
            "_model_module_version": "1.5.0",
            "_view_count": null,
            "_view_module_version": "1.5.0",
            "box_style": "",
            "layout": "IPY_MODEL_cb213191132444ae80b39be9d5ae0677",
            "_model_module": "@jupyter-widgets/controls",
            "children": [
              "IPY_MODEL_189301f0cc95461fa64af8f26f34d795",
              "IPY_MODEL_02f41763dff045f1956e775ff0ef2f3e"
            ]
          }
        },
        "cb213191132444ae80b39be9d5ae0677": {
          "model_module": "@jupyter-widgets/base",
          "model_name": "LayoutModel",
          "state": {
            "_view_name": "LayoutView",
            "grid_template_rows": null,
            "right": null,
            "justify_content": null,
            "_view_module": "@jupyter-widgets/base",
            "overflow": null,
            "_model_module_version": "1.2.0",
            "_view_count": null,
            "flex_flow": null,
            "width": null,
            "min_width": null,
            "border": null,
            "align_items": null,
            "bottom": null,
            "_model_module": "@jupyter-widgets/base",
            "top": null,
            "grid_column": null,
            "overflow_y": null,
            "overflow_x": null,
            "grid_auto_flow": null,
            "grid_area": null,
            "grid_template_columns": null,
            "flex": null,
            "_model_name": "LayoutModel",
            "justify_items": null,
            "grid_row": null,
            "max_height": null,
            "align_content": null,
            "visibility": null,
            "align_self": null,
            "height": null,
            "min_height": null,
            "padding": null,
            "grid_auto_rows": null,
            "grid_gap": null,
            "max_width": null,
            "order": null,
            "_view_module_version": "1.2.0",
            "grid_template_areas": null,
            "object_position": null,
            "object_fit": null,
            "grid_auto_columns": null,
            "margin": null,
            "display": null,
            "left": null
          }
        },
        "189301f0cc95461fa64af8f26f34d795": {
          "model_module": "@jupyter-widgets/controls",
          "model_name": "FloatProgressModel",
          "state": {
            "_view_name": "ProgressView",
            "style": "IPY_MODEL_30324b3926ef428bbf64ed463b3a5be6",
            "_dom_classes": [],
            "description": "",
            "_model_name": "FloatProgressModel",
            "bar_style": "success",
            "max": 4542,
            "_view_module": "@jupyter-widgets/controls",
            "_model_module_version": "1.5.0",
            "value": 4542,
            "_view_count": null,
            "_view_module_version": "1.5.0",
            "orientation": "horizontal",
            "min": 0,
            "description_tooltip": null,
            "_model_module": "@jupyter-widgets/controls",
            "layout": "IPY_MODEL_4f62554cb6e5442bbc3bb1e0c74dd27d"
          }
        },
        "02f41763dff045f1956e775ff0ef2f3e": {
          "model_module": "@jupyter-widgets/controls",
          "model_name": "HTMLModel",
          "state": {
            "_view_name": "HTMLView",
            "style": "IPY_MODEL_6aebd531e9ff4d5ba0be16d3bbf4568b",
            "_dom_classes": [],
            "description": "",
            "_model_name": "HTMLModel",
            "placeholder": "​",
            "_view_module": "@jupyter-widgets/controls",
            "_model_module_version": "1.5.0",
            "value": " 5120/? [00:00&lt;00:00, 8398.64it/s]",
            "_view_count": null,
            "_view_module_version": "1.5.0",
            "description_tooltip": null,
            "_model_module": "@jupyter-widgets/controls",
            "layout": "IPY_MODEL_7f6c6c9a25cb4d908367095edcfc5fc8"
          }
        },
        "30324b3926ef428bbf64ed463b3a5be6": {
          "model_module": "@jupyter-widgets/controls",
          "model_name": "ProgressStyleModel",
          "state": {
            "_view_name": "StyleView",
            "_model_name": "ProgressStyleModel",
            "description_width": "initial",
            "_view_module": "@jupyter-widgets/base",
            "_model_module_version": "1.5.0",
            "_view_count": null,
            "_view_module_version": "1.2.0",
            "bar_color": null,
            "_model_module": "@jupyter-widgets/controls"
          }
        },
        "4f62554cb6e5442bbc3bb1e0c74dd27d": {
          "model_module": "@jupyter-widgets/base",
          "model_name": "LayoutModel",
          "state": {
            "_view_name": "LayoutView",
            "grid_template_rows": null,
            "right": null,
            "justify_content": null,
            "_view_module": "@jupyter-widgets/base",
            "overflow": null,
            "_model_module_version": "1.2.0",
            "_view_count": null,
            "flex_flow": null,
            "width": null,
            "min_width": null,
            "border": null,
            "align_items": null,
            "bottom": null,
            "_model_module": "@jupyter-widgets/base",
            "top": null,
            "grid_column": null,
            "overflow_y": null,
            "overflow_x": null,
            "grid_auto_flow": null,
            "grid_area": null,
            "grid_template_columns": null,
            "flex": null,
            "_model_name": "LayoutModel",
            "justify_items": null,
            "grid_row": null,
            "max_height": null,
            "align_content": null,
            "visibility": null,
            "align_self": null,
            "height": null,
            "min_height": null,
            "padding": null,
            "grid_auto_rows": null,
            "grid_gap": null,
            "max_width": null,
            "order": null,
            "_view_module_version": "1.2.0",
            "grid_template_areas": null,
            "object_position": null,
            "object_fit": null,
            "grid_auto_columns": null,
            "margin": null,
            "display": null,
            "left": null
          }
        },
        "6aebd531e9ff4d5ba0be16d3bbf4568b": {
          "model_module": "@jupyter-widgets/controls",
          "model_name": "DescriptionStyleModel",
          "state": {
            "_view_name": "StyleView",
            "_model_name": "DescriptionStyleModel",
            "description_width": "",
            "_view_module": "@jupyter-widgets/base",
            "_model_module_version": "1.5.0",
            "_view_count": null,
            "_view_module_version": "1.2.0",
            "_model_module": "@jupyter-widgets/controls"
          }
        },
        "7f6c6c9a25cb4d908367095edcfc5fc8": {
          "model_module": "@jupyter-widgets/base",
          "model_name": "LayoutModel",
          "state": {
            "_view_name": "LayoutView",
            "grid_template_rows": null,
            "right": null,
            "justify_content": null,
            "_view_module": "@jupyter-widgets/base",
            "overflow": null,
            "_model_module_version": "1.2.0",
            "_view_count": null,
            "flex_flow": null,
            "width": null,
            "min_width": null,
            "border": null,
            "align_items": null,
            "bottom": null,
            "_model_module": "@jupyter-widgets/base",
            "top": null,
            "grid_column": null,
            "overflow_y": null,
            "overflow_x": null,
            "grid_auto_flow": null,
            "grid_area": null,
            "grid_template_columns": null,
            "flex": null,
            "_model_name": "LayoutModel",
            "justify_items": null,
            "grid_row": null,
            "max_height": null,
            "align_content": null,
            "visibility": null,
            "align_self": null,
            "height": null,
            "min_height": null,
            "padding": null,
            "grid_auto_rows": null,
            "grid_gap": null,
            "max_width": null,
            "order": null,
            "_view_module_version": "1.2.0",
            "grid_template_areas": null,
            "object_position": null,
            "object_fit": null,
            "grid_auto_columns": null,
            "margin": null,
            "display": null,
            "left": null
          }
        },
        "358e49449765482582945ae298df22e4": {
          "model_module": "@jupyter-widgets/controls",
          "model_name": "HBoxModel",
          "state": {
            "_view_name": "HBoxView",
            "_dom_classes": [],
            "_model_name": "HBoxModel",
            "_view_module": "@jupyter-widgets/controls",
            "_model_module_version": "1.5.0",
            "_view_count": null,
            "_view_module_version": "1.5.0",
            "box_style": "",
            "layout": "IPY_MODEL_aff96cb92cee4c6997ed0e96018923e4",
            "_model_module": "@jupyter-widgets/controls",
            "children": [
              "IPY_MODEL_4474440204f9401483f721202e34d441",
              "IPY_MODEL_f2cfac37250248eea142a32be76b537c"
            ]
          }
        },
        "aff96cb92cee4c6997ed0e96018923e4": {
          "model_module": "@jupyter-widgets/base",
          "model_name": "LayoutModel",
          "state": {
            "_view_name": "LayoutView",
            "grid_template_rows": null,
            "right": null,
            "justify_content": null,
            "_view_module": "@jupyter-widgets/base",
            "overflow": null,
            "_model_module_version": "1.2.0",
            "_view_count": null,
            "flex_flow": null,
            "width": null,
            "min_width": null,
            "border": null,
            "align_items": null,
            "bottom": null,
            "_model_module": "@jupyter-widgets/base",
            "top": null,
            "grid_column": null,
            "overflow_y": null,
            "overflow_x": null,
            "grid_auto_flow": null,
            "grid_area": null,
            "grid_template_columns": null,
            "flex": null,
            "_model_name": "LayoutModel",
            "justify_items": null,
            "grid_row": null,
            "max_height": null,
            "align_content": null,
            "visibility": null,
            "align_self": null,
            "height": null,
            "min_height": null,
            "padding": null,
            "grid_auto_rows": null,
            "grid_gap": null,
            "max_width": null,
            "order": null,
            "_view_module_version": "1.2.0",
            "grid_template_areas": null,
            "object_position": null,
            "object_fit": null,
            "grid_auto_columns": null,
            "margin": null,
            "display": null,
            "left": null
          }
        },
        "4474440204f9401483f721202e34d441": {
          "model_module": "@jupyter-widgets/controls",
          "model_name": "FloatProgressModel",
          "state": {
            "_view_name": "ProgressView",
            "style": "IPY_MODEL_6e1a19c8a7e34b0395cf82a02afba304",
            "_dom_classes": [],
            "description": "100%",
            "_model_name": "FloatProgressModel",
            "bar_style": "success",
            "max": 12,
            "_view_module": "@jupyter-widgets/controls",
            "_model_module_version": "1.5.0",
            "value": 12,
            "_view_count": null,
            "_view_module_version": "1.5.0",
            "orientation": "horizontal",
            "min": 0,
            "description_tooltip": null,
            "_model_module": "@jupyter-widgets/controls",
            "layout": "IPY_MODEL_961ae193a414429c88d15d5029b13430"
          }
        },
        "f2cfac37250248eea142a32be76b537c": {
          "model_module": "@jupyter-widgets/controls",
          "model_name": "HTMLModel",
          "state": {
            "_view_name": "HTMLView",
            "style": "IPY_MODEL_3bd1506e4fb04c739aa2cbe9b4fa74b4",
            "_dom_classes": [],
            "description": "",
            "_model_name": "HTMLModel",
            "placeholder": "​",
            "_view_module": "@jupyter-widgets/controls",
            "_model_module_version": "1.5.0",
            "value": " 12/12 [1:49:31&lt;00:00, 547.60s/it]",
            "_view_count": null,
            "_view_module_version": "1.5.0",
            "description_tooltip": null,
            "_model_module": "@jupyter-widgets/controls",
            "layout": "IPY_MODEL_75b6ecb320bd4e81b55e5b5b58b43552"
          }
        },
        "6e1a19c8a7e34b0395cf82a02afba304": {
          "model_module": "@jupyter-widgets/controls",
          "model_name": "ProgressStyleModel",
          "state": {
            "_view_name": "StyleView",
            "_model_name": "ProgressStyleModel",
            "description_width": "initial",
            "_view_module": "@jupyter-widgets/base",
            "_model_module_version": "1.5.0",
            "_view_count": null,
            "_view_module_version": "1.2.0",
            "bar_color": null,
            "_model_module": "@jupyter-widgets/controls"
          }
        },
        "961ae193a414429c88d15d5029b13430": {
          "model_module": "@jupyter-widgets/base",
          "model_name": "LayoutModel",
          "state": {
            "_view_name": "LayoutView",
            "grid_template_rows": null,
            "right": null,
            "justify_content": null,
            "_view_module": "@jupyter-widgets/base",
            "overflow": null,
            "_model_module_version": "1.2.0",
            "_view_count": null,
            "flex_flow": null,
            "width": null,
            "min_width": null,
            "border": null,
            "align_items": null,
            "bottom": null,
            "_model_module": "@jupyter-widgets/base",
            "top": null,
            "grid_column": null,
            "overflow_y": null,
            "overflow_x": null,
            "grid_auto_flow": null,
            "grid_area": null,
            "grid_template_columns": null,
            "flex": null,
            "_model_name": "LayoutModel",
            "justify_items": null,
            "grid_row": null,
            "max_height": null,
            "align_content": null,
            "visibility": null,
            "align_self": null,
            "height": null,
            "min_height": null,
            "padding": null,
            "grid_auto_rows": null,
            "grid_gap": null,
            "max_width": null,
            "order": null,
            "_view_module_version": "1.2.0",
            "grid_template_areas": null,
            "object_position": null,
            "object_fit": null,
            "grid_auto_columns": null,
            "margin": null,
            "display": null,
            "left": null
          }
        },
        "3bd1506e4fb04c739aa2cbe9b4fa74b4": {
          "model_module": "@jupyter-widgets/controls",
          "model_name": "DescriptionStyleModel",
          "state": {
            "_view_name": "StyleView",
            "_model_name": "DescriptionStyleModel",
            "description_width": "",
            "_view_module": "@jupyter-widgets/base",
            "_model_module_version": "1.5.0",
            "_view_count": null,
            "_view_module_version": "1.2.0",
            "_model_module": "@jupyter-widgets/controls"
          }
        },
        "75b6ecb320bd4e81b55e5b5b58b43552": {
          "model_module": "@jupyter-widgets/base",
          "model_name": "LayoutModel",
          "state": {
            "_view_name": "LayoutView",
            "grid_template_rows": null,
            "right": null,
            "justify_content": null,
            "_view_module": "@jupyter-widgets/base",
            "overflow": null,
            "_model_module_version": "1.2.0",
            "_view_count": null,
            "flex_flow": null,
            "width": null,
            "min_width": null,
            "border": null,
            "align_items": null,
            "bottom": null,
            "_model_module": "@jupyter-widgets/base",
            "top": null,
            "grid_column": null,
            "overflow_y": null,
            "overflow_x": null,
            "grid_auto_flow": null,
            "grid_area": null,
            "grid_template_columns": null,
            "flex": null,
            "_model_name": "LayoutModel",
            "justify_items": null,
            "grid_row": null,
            "max_height": null,
            "align_content": null,
            "visibility": null,
            "align_self": null,
            "height": null,
            "min_height": null,
            "padding": null,
            "grid_auto_rows": null,
            "grid_gap": null,
            "max_width": null,
            "order": null,
            "_view_module_version": "1.2.0",
            "grid_template_areas": null,
            "object_position": null,
            "object_fit": null,
            "grid_auto_columns": null,
            "margin": null,
            "display": null,
            "left": null
          }
        }
      }
    }
  },
  "cells": [
    {
      "cell_type": "code",
      "metadata": {
        "id": "gdws0HhpkQnx",
        "outputId": "8ca2fcc5-8dfc-44f9-de2c-251f80ec5483",
        "colab": {
          "base_uri": "https://localhost:8080/"
        }
      },
      "source": [
        "import torch\n",
        "import numpy as np\n",
        "import torch.nn as nn\n",
        "from tqdm.notebook import tqdm\n",
        "import torchvision\n",
        "import time\n",
        "import itertools\n",
        "import sklearn\n",
        "from sklearn.model_selection import KFold\n",
        "\n",
        "from torch.optim.lr_scheduler import StepLR\n",
        "\n",
        "torch.manual_seed(42)"
      ],
      "execution_count": 18,
      "outputs": [
        {
          "output_type": "execute_result",
          "data": {
            "text/plain": [
              "<torch._C.Generator at 0x7f09c8c565f0>"
            ]
          },
          "metadata": {
            "tags": []
          },
          "execution_count": 18
        }
      ]
    },
    {
      "cell_type": "code",
      "metadata": {
        "id": "0f2LM6xDkQn6",
        "outputId": "c78baed5-00b3-4fdc-edef-422a5831a022",
        "colab": {
          "base_uri": "https://localhost:8080/"
        }
      },
      "source": [
        "use_gpu = torch.cuda.is_available()\n",
        "device = torch.device(\"cuda\" if use_gpu else \"cpu\")\n",
        "print(\"Device being used: \", device)"
      ],
      "execution_count": 2,
      "outputs": [
        {
          "output_type": "stream",
          "text": [
            "Device being used:  cuda\n"
          ],
          "name": "stdout"
        }
      ]
    },
    {
      "cell_type": "code",
      "metadata": {
        "id": "Yv4Zx36JkQn6"
      },
      "source": [
        "scaled_mean= 0.13062754273414612 \n",
        "scaled_std= 0.30810779333114624"
      ],
      "execution_count": 3,
      "outputs": []
    },
    {
      "cell_type": "code",
      "metadata": {
        "id": "8WFzfhO0kQn7",
        "outputId": "24d9b78b-fa83-490f-ed26-2ad867fb235c",
        "colab": {
          "base_uri": "https://localhost:8080/",
          "height": 824,
          "referenced_widgets": [
            "c85da2967c974e2db024625747b96f2d",
            "bbdaadfaaf724b4f8fdb516b43618bc0",
            "1e8a1ea00c534d298ef21fa7da878e56",
            "35b3a3d8693d4d568f064405d9bf2e67",
            "2f1c697a3a4a42cd996326a956f88cfb",
            "625a44716c044500b7294f2cd7e3b234",
            "47c26fffae4a4f3181bf0c7e58c79c34",
            "9661d61079cb43cab22dc26fa329b170",
            "91055092b05f43589bc8746d69660ce5",
            "e566fa6b35ba4655a28797224a36c123",
            "abfd44de29d049f0b2600ce48ace26f9",
            "6bfdaffb96fe45c2bdb045156c530a8b",
            "795d5f976e1a43a1a28a4e2cee133a6c",
            "32918b7219974f1b997695ef93fa3616",
            "afc33f703f734243ba2e79894a3fc85f",
            "9d9f1b26e0444f16800538e329a20efd",
            "9fe357a34b16491b91c9029804908bb6",
            "78e9a2f115204091ada0d0290aa1dc9c",
            "169fbc1c6057492481692660b3f3503c",
            "e928dee314bf424f97640ff7955b9e51",
            "fc825c3e2a6f4a5c91993fe877206476",
            "c5fe74c9c9d447b0be7c88d98624f252",
            "0d86aa88194d4376b64801d7c818a35b",
            "9eebe5aa2b6243d8951c0b1998ba4b94",
            "c5edd9acefdc41649368d517e00e70ed",
            "cb213191132444ae80b39be9d5ae0677",
            "189301f0cc95461fa64af8f26f34d795",
            "02f41763dff045f1956e775ff0ef2f3e",
            "30324b3926ef428bbf64ed463b3a5be6",
            "4f62554cb6e5442bbc3bb1e0c74dd27d",
            "6aebd531e9ff4d5ba0be16d3bbf4568b",
            "7f6c6c9a25cb4d908367095edcfc5fc8"
          ]
        }
      },
      "source": [
        "train_dataset =  torchvision.datasets.MNIST('./data/files/', train=True, download=True,  transform=torchvision.transforms.Compose([\n",
        "                                                                                       torchvision.transforms.ToTensor(),\n",
        "                                                                                       torchvision.transforms.Normalize((scaled_mean,), (scaled_std,))]))\n",
        "test_dataset =   torchvision.datasets.MNIST('./data/files/', train=False, download=True,  transform=torchvision.transforms.Compose([\n",
        "                                                                                       torchvision.transforms.ToTensor(),\n",
        "                                                                                       torchvision.transforms.Normalize((scaled_mean,), (scaled_std,))]))\n",
        "\n"
      ],
      "execution_count": 4,
      "outputs": [
        {
          "output_type": "stream",
          "text": [
            "Downloading http://yann.lecun.com/exdb/mnist/train-images-idx3-ubyte.gz\n",
            "Downloading http://yann.lecun.com/exdb/mnist/train-images-idx3-ubyte.gz to ./data/files/MNIST/raw/train-images-idx3-ubyte.gz\n",
            "Failed to download (trying next):\n",
            "HTTP Error 503: Service Unavailable\n",
            "\n",
            "Downloading https://ossci-datasets.s3.amazonaws.com/mnist/train-images-idx3-ubyte.gz\n",
            "Downloading https://ossci-datasets.s3.amazonaws.com/mnist/train-images-idx3-ubyte.gz to ./data/files/MNIST/raw/train-images-idx3-ubyte.gz\n"
          ],
          "name": "stdout"
        },
        {
          "output_type": "display_data",
          "data": {
            "application/vnd.jupyter.widget-view+json": {
              "model_id": "c85da2967c974e2db024625747b96f2d",
              "version_minor": 0,
              "version_major": 2
            },
            "text/plain": [
              "HBox(children=(FloatProgress(value=0.0, max=9912422.0), HTML(value='')))"
            ]
          },
          "metadata": {
            "tags": []
          }
        },
        {
          "output_type": "stream",
          "text": [
            "\n",
            "Extracting ./data/files/MNIST/raw/train-images-idx3-ubyte.gz to ./data/files/MNIST/raw\n",
            "\n",
            "Downloading http://yann.lecun.com/exdb/mnist/train-labels-idx1-ubyte.gz\n",
            "Failed to download (trying next):\n",
            "HTTP Error 503: Service Unavailable\n",
            "\n",
            "Downloading https://ossci-datasets.s3.amazonaws.com/mnist/train-labels-idx1-ubyte.gz\n",
            "Downloading https://ossci-datasets.s3.amazonaws.com/mnist/train-labels-idx1-ubyte.gz to ./data/files/MNIST/raw/train-labels-idx1-ubyte.gz\n"
          ],
          "name": "stdout"
        },
        {
          "output_type": "display_data",
          "data": {
            "application/vnd.jupyter.widget-view+json": {
              "model_id": "91055092b05f43589bc8746d69660ce5",
              "version_minor": 0,
              "version_major": 2
            },
            "text/plain": [
              "HBox(children=(FloatProgress(value=0.0, max=28881.0), HTML(value='')))"
            ]
          },
          "metadata": {
            "tags": []
          }
        },
        {
          "output_type": "stream",
          "text": [
            "\n",
            "Extracting ./data/files/MNIST/raw/train-labels-idx1-ubyte.gz to ./data/files/MNIST/raw\n",
            "\n",
            "Downloading http://yann.lecun.com/exdb/mnist/t10k-images-idx3-ubyte.gz\n",
            "Downloading http://yann.lecun.com/exdb/mnist/t10k-images-idx3-ubyte.gz to ./data/files/MNIST/raw/t10k-images-idx3-ubyte.gz\n",
            "Failed to download (trying next):\n",
            "HTTP Error 503: Service Unavailable\n",
            "\n",
            "Downloading https://ossci-datasets.s3.amazonaws.com/mnist/t10k-images-idx3-ubyte.gz\n",
            "Downloading https://ossci-datasets.s3.amazonaws.com/mnist/t10k-images-idx3-ubyte.gz to ./data/files/MNIST/raw/t10k-images-idx3-ubyte.gz\n"
          ],
          "name": "stdout"
        },
        {
          "output_type": "display_data",
          "data": {
            "application/vnd.jupyter.widget-view+json": {
              "model_id": "9fe357a34b16491b91c9029804908bb6",
              "version_minor": 0,
              "version_major": 2
            },
            "text/plain": [
              "HBox(children=(FloatProgress(value=0.0, max=1648877.0), HTML(value='')))"
            ]
          },
          "metadata": {
            "tags": []
          }
        },
        {
          "output_type": "stream",
          "text": [
            "\n",
            "Extracting ./data/files/MNIST/raw/t10k-images-idx3-ubyte.gz to ./data/files/MNIST/raw\n",
            "\n",
            "Downloading http://yann.lecun.com/exdb/mnist/t10k-labels-idx1-ubyte.gz\n",
            "Downloading http://yann.lecun.com/exdb/mnist/t10k-labels-idx1-ubyte.gz to ./data/files/MNIST/raw/t10k-labels-idx1-ubyte.gz\n"
          ],
          "name": "stdout"
        },
        {
          "output_type": "display_data",
          "data": {
            "application/vnd.jupyter.widget-view+json": {
              "model_id": "c5edd9acefdc41649368d517e00e70ed",
              "version_minor": 0,
              "version_major": 2
            },
            "text/plain": [
              "HBox(children=(FloatProgress(value=0.0, max=4542.0), HTML(value='')))"
            ]
          },
          "metadata": {
            "tags": []
          }
        },
        {
          "output_type": "stream",
          "text": [
            "\n",
            "Extracting ./data/files/MNIST/raw/t10k-labels-idx1-ubyte.gz to ./data/files/MNIST/raw\n",
            "\n",
            "Processing...\n",
            "Done!\n"
          ],
          "name": "stdout"
        },
        {
          "output_type": "stream",
          "text": [
            "/usr/local/lib/python3.7/dist-packages/torchvision/datasets/mnist.py:502: UserWarning: The given NumPy array is not writeable, and PyTorch does not support non-writeable tensors. This means you can write to the underlying (supposedly non-writeable) NumPy array using the tensor. You may want to copy the array to protect its data or make it writeable before converting it to a tensor. This type of warning will be suppressed for the rest of this program. (Triggered internally at  /pytorch/torch/csrc/utils/tensor_numpy.cpp:143.)\n",
            "  return torch.from_numpy(parsed.astype(m[2], copy=False)).view(*s)\n"
          ],
          "name": "stderr"
        }
      ]
    },
    {
      "cell_type": "code",
      "metadata": {
        "id": "GAqJ49VlkQn7"
      },
      "source": [
        "train_loader = torch.utils.data.DataLoader(train_dataset, batch_size=64, shuffle=True, pin_memory=use_gpu)\n",
        "\n",
        "test_loader = torch.utils.data.DataLoader(test_dataset, batch_size=64, shuffle=True, pin_memory=use_gpu)"
      ],
      "execution_count": 5,
      "outputs": []
    },
    {
      "cell_type": "code",
      "metadata": {
        "id": "zFp0gUIikQn8",
        "outputId": "89838876-9b52-4dd9-c92a-f68557bed82b",
        "colab": {
          "base_uri": "https://localhost:8080/"
        }
      },
      "source": [
        "print(f\"Size of the train set: {len(train_loader.dataset)}, size of the test set: {len(test_loader.dataset)}\")"
      ],
      "execution_count": 6,
      "outputs": [
        {
          "output_type": "stream",
          "text": [
            "Size of the train set: 60000, size of the test set: 10000\n"
          ],
          "name": "stdout"
        }
      ]
    },
    {
      "cell_type": "code",
      "metadata": {
        "id": "u_99CQUkkQn8",
        "outputId": "4ed30481-449e-4a51-ccd2-5e3f929fac43",
        "colab": {
          "base_uri": "https://localhost:8080/",
          "height": 265
        }
      },
      "source": [
        "import matplotlib.pyplot as plt\n",
        "plt.imshow(train_dataset[0][0].numpy().squeeze(), cmap='gray_r');"
      ],
      "execution_count": 7,
      "outputs": [
        {
          "output_type": "display_data",
          "data": {
            "image/png": "[encoded data removed]",
            "text/plain": [
              "<Figure size 432x288 with 1 Axes>"
            ]
          },
          "metadata": {
            "tags": [],
            "needs_background": "light"
          }
        }
      ]
    },
    {
      "cell_type": "code",
      "metadata": {
        "id": "8yQy803RkQn9",
        "outputId": "9af2a682-020d-4712-f959-98088064bbd4",
        "colab": {
          "base_uri": "https://localhost:8080/"
        }
      },
      "source": [
        "train_dataset[0][0].shape"
      ],
      "execution_count": 8,
      "outputs": [
        {
          "output_type": "execute_result",
          "data": {
            "text/plain": [
              "torch.Size([1, 28, 28])"
            ]
          },
          "metadata": {
            "tags": []
          },
          "execution_count": 8
        }
      ]
    },
    {
      "cell_type": "code",
      "metadata": {
        "id": "LJzWXg4NkQn9",
        "outputId": "2a768d2f-1111-435b-e9aa-c8f650261471",
        "colab": {
          "base_uri": "https://localhost:8080/"
        }
      },
      "source": [
        "train_dataset[0][1]"
      ],
      "execution_count": 9,
      "outputs": [
        {
          "output_type": "execute_result",
          "data": {
            "text/plain": [
              "5"
            ]
          },
          "metadata": {
            "tags": []
          },
          "execution_count": 9
        }
      ]
    },
    {
      "cell_type": "code",
      "metadata": {
        "id": "XUBfAo8MkQn9"
      },
      "source": [
        "class Net(nn.Module):\n",
        "    def __init__(self):\n",
        "        super(Net,self).__init__()\n",
        "        self.linear1 = nn.Linear(28*28, 256) \n",
        "        self.linear2 = nn.Linear(256, 100) \n",
        "        self.final = nn.Linear(100, 10)\n",
        "        self.relu = nn.ReLU()\n",
        "\n",
        "    def forward(self, img): #convert + flatten\n",
        "        x = img.view(-1, 28*28)\n",
        "        x = self.relu(self.linear1(x))\n",
        "        x = self.relu(self.linear2(x))\n",
        "        x = self.final(x)\n",
        "        return x\n"
      ],
      "execution_count": 10,
      "outputs": []
    },
    {
      "cell_type": "code",
      "metadata": {
        "id": "iFxPIgrVkQn-"
      },
      "source": [
        "def reset_weights(m):\n",
        "    '''\n",
        "    Reset model weights to avoid weight leakage. Useful during hyperparameter tuning\n",
        "    '''\n",
        "    for layer in m.children():\n",
        "        if hasattr(layer, 'reset_parameters'):\n",
        "            layer.reset_parameters()"
      ],
      "execution_count": 11,
      "outputs": []
    },
    {
      "cell_type": "code",
      "metadata": {
        "id": "r2W6HlHNkQn-"
      },
      "source": [
        "def train(model, dataloader, criterion, optimizer):\n",
        "    '''\n",
        "    Train the given model, using te specified train data (dataloader), loss (criterion) and optimizer\n",
        "    '''\n",
        "    for x_batch, y_batch in dataloader:\n",
        "        \n",
        "        #Transfer batches to GPU\n",
        "        x_batch = x_batch.to(device)\n",
        "        y_batch = y_batch.to(device)\n",
        "\n",
        "        y_pred = model(x_batch)\n",
        "        \n",
        "        loss = criterion(y_pred, y_batch)\n",
        "        \n",
        "        optimizer.zero_grad()\n",
        "        loss.backward()\n",
        "        optimizer.step()"
      ],
      "execution_count": 12,
      "outputs": []
    },
    {
      "cell_type": "code",
      "metadata": {
        "id": "t_q1wQDEkQn-"
      },
      "source": [
        "import torch.nn.functional as F\n",
        "\n",
        "def test(model, dataloader):\n",
        "    '''\n",
        "    Evaluate the accuracy of the given model, tested on the specified test set (dataloader)\n",
        "    '''\n",
        "    correct = 0.0\n",
        "    total = 0.0\n",
        "\n",
        "    for x_batch, y_batch in dataloader:\n",
        "        \n",
        "        #Transfer batches to GPU\n",
        "        x_batch = x_batch.to(device)\n",
        "        y_batch = y_batch.to(device)\n",
        "        \n",
        "        with torch.no_grad():\n",
        "            preds = model(x_batch)           # output of linear\n",
        "            probs = F.softmax(preds, dim=1) # probability distribution\n",
        "            preds = probs.argmax(dim=1)      # most probable class (for each sample in the batch)\n",
        "\n",
        "            correct += (preds == y_batch).sum()\n",
        "            total += len(preds)\n",
        "            \n",
        "    return correct / total # accuracy"
      ],
      "execution_count": 13,
      "outputs": []
    },
    {
      "cell_type": "markdown",
      "metadata": {
        "id": "gKVEAPFskQn_"
      },
      "source": [
        "# Quick test to see if things are working and to learn how LR-schedulers work"
      ]
    },
    {
      "cell_type": "markdown",
      "metadata": {
        "id": "Y5pqOL1UkQn_"
      },
      "source": [
        "## Constant Learning Rate"
      ]
    },
    {
      "cell_type": "code",
      "metadata": {
        "id": "Iez2gonLkQn_",
        "outputId": "47d2970e-3d55-4c40-997e-e8f144d5b710"
      },
      "source": [
        "\n",
        "start_time = time.time()\n",
        "\n",
        "model = Net()\n",
        "model.to(device)\n",
        "\n",
        "optimizer = torch.optim.SGD(model.parameters(), lr=0.01)\n",
        "\n",
        "for epoch in range(20):\n",
        "    train(model, train_loader, torch.nn.CrossEntropyLoss(), optimizer)\n",
        "    acc = test(model, test_loader)\n",
        "    \n",
        "    print(f'Epoch {epoch}: test accuracy {acc:.4}')\n",
        "    \n",
        "print(f\"--- {((time.time() - start_time)/60):.4} minutes ---\" )"
      ],
      "execution_count": null,
      "outputs": [
        {
          "output_type": "stream",
          "text": [
            "Epoch 0: test accuracy 0.9017\n",
            "Epoch 1: test accuracy 0.9236\n",
            "Epoch 2: test accuracy 0.9344\n",
            "Epoch 3: test accuracy 0.9414\n",
            "Epoch 4: test accuracy 0.9506\n",
            "Epoch 5: test accuracy 0.9536\n",
            "Epoch 6: test accuracy 0.9596\n",
            "Epoch 7: test accuracy 0.9626\n",
            "Epoch 8: test accuracy 0.9644\n",
            "Epoch 9: test accuracy 0.9677\n",
            "Epoch 10: test accuracy 0.9687\n",
            "Epoch 11: test accuracy 0.9692\n",
            "Epoch 12: test accuracy 0.969\n",
            "Epoch 13: test accuracy 0.9721\n",
            "Epoch 14: test accuracy 0.9728\n",
            "Epoch 15: test accuracy 0.9734\n",
            "Epoch 16: test accuracy 0.9742\n",
            "Epoch 17: test accuracy 0.9754\n",
            "Epoch 18: test accuracy 0.9753\n",
            "Epoch 19: test accuracy 0.9753\n",
            "--- 397.0 seconds ---\n"
          ],
          "name": "stdout"
        }
      ]
    },
    {
      "cell_type": "markdown",
      "metadata": {
        "id": "U88-5niCkQoA"
      },
      "source": [
        "## Increasing Learning Rate"
      ]
    },
    {
      "cell_type": "code",
      "metadata": {
        "id": "7Lch0LdZkQoB",
        "outputId": "19259679-a963-43df-a54a-4dc5b4394257"
      },
      "source": [
        "from torch.optim.lr_scheduler import StepLR\n",
        "\n",
        "start_time = time.time()\n",
        "\n",
        "model = Net()\n",
        "model.to(device)\n",
        "optimizer = torch.optim.SGD(model.parameters(), lr=0.01)\n",
        "scheduler = StepLR(optimizer, step_size=5, gamma=2)\n",
        "\n",
        "for epoch in range(20):\n",
        "    train(model, train_loader, torch.nn.CrossEntropyLoss(), optimizer)\n",
        "    acc = test(model, test_loader)\n",
        "    \n",
        "    scheduler.step()\n",
        "    \n",
        "    print(f'Epoch {epoch}: test accuracy {acc:.4}')\n",
        "    \n",
        "print(f\"--- {((time.time() - start_time)/60):.4} minutes ---\" )"
      ],
      "execution_count": null,
      "outputs": [
        {
          "output_type": "stream",
          "text": [
            "Epoch 0: test accuracy 0.9025\n",
            "Epoch 1: test accuracy 0.9257\n",
            "Epoch 2: test accuracy 0.9367\n",
            "Epoch 3: test accuracy 0.944\n",
            "Epoch 4: test accuracy 0.9506\n",
            "Epoch 5: test accuracy 0.9556\n",
            "Epoch 6: test accuracy 0.9628\n",
            "Epoch 7: test accuracy 0.9665\n",
            "Epoch 8: test accuracy 0.9717\n",
            "Epoch 9: test accuracy 0.9716\n",
            "Epoch 10: test accuracy 0.9717\n",
            "Epoch 11: test accuracy 0.9752\n",
            "Epoch 12: test accuracy 0.9772\n",
            "Epoch 13: test accuracy 0.9721\n",
            "Epoch 14: test accuracy 0.9789\n",
            "Epoch 15: test accuracy 0.9779\n",
            "Epoch 16: test accuracy 0.9674\n",
            "Epoch 17: test accuracy 0.9712\n",
            "Epoch 18: test accuracy 0.9788\n",
            "Epoch 19: test accuracy 0.9797\n",
            "--- 381.2 seconds ---\n"
          ],
          "name": "stdout"
        }
      ]
    },
    {
      "cell_type": "markdown",
      "metadata": {
        "id": "Z0uUDhO4kQoC"
      },
      "source": [
        "## Decaying Learning Rate"
      ]
    },
    {
      "cell_type": "code",
      "metadata": {
        "id": "iFidYrx8kQoC",
        "outputId": "61b11fb9-88f8-491b-b11d-639c628957b6"
      },
      "source": [
        "start_time = time.time()\n",
        "\n",
        "model = Net()\n",
        "model.to(device)\n",
        "\n",
        "optimizer = torch.optim.SGD(model.parameters(), lr=0.1)\n",
        "scheduler = StepLR(optimizer, step_size=5, gamma=1/2)\n",
        "\n",
        "for epoch in range(20):\n",
        "    train(model, train_loader, torch.nn.CrossEntropyLoss(), optimizer)\n",
        "    acc = test(model, test_loader)\n",
        "    \n",
        "    scheduler.step()\n",
        "    \n",
        "    print(f'Epoch {epoch}: test accuracy {acc:.4}')\n",
        "    \n",
        "print(f\"--- {((time.time() - start_time)/60):.4} minutes ---\" )"
      ],
      "execution_count": null,
      "outputs": [
        {
          "output_type": "stream",
          "text": [
            "Epoch 0: test accuracy 0.9596\n",
            "Epoch 1: test accuracy 0.9746\n",
            "Epoch 2: test accuracy 0.9768\n",
            "Epoch 3: test accuracy 0.9751\n",
            "Epoch 4: test accuracy 0.9792\n",
            "Epoch 5: test accuracy 0.9819\n",
            "Epoch 6: test accuracy 0.9821\n",
            "Epoch 7: test accuracy 0.9828\n",
            "Epoch 8: test accuracy 0.9818\n",
            "Epoch 9: test accuracy 0.9837\n",
            "Epoch 10: test accuracy 0.9831\n",
            "Epoch 11: test accuracy 0.9832\n",
            "Epoch 12: test accuracy 0.9827\n",
            "Epoch 13: test accuracy 0.983\n",
            "Epoch 14: test accuracy 0.9835\n",
            "Epoch 15: test accuracy 0.9831\n",
            "Epoch 16: test accuracy 0.983\n",
            "Epoch 17: test accuracy 0.9829\n",
            "Epoch 18: test accuracy 0.9833\n",
            "Epoch 19: test accuracy 0.9834\n",
            "--- 408.5 seconds ---\n"
          ],
          "name": "stdout"
        }
      ]
    },
    {
      "cell_type": "code",
      "metadata": {
        "id": "7X3mU1n2kQoD",
        "outputId": "8c6d56e9-84b5-4931-be55-2fd271d8f678"
      },
      "source": [
        "# Just to check how the scheduler will work\n",
        "optimizer = torch.optim.SGD(model.parameters(), lr=0.01)\n",
        "scheduler = StepLR(optimizer, step_size=5, gamma=2)\n",
        "for epoch in range(1, 21):\n",
        "    scheduler.step()\n",
        "    print('Epoch-{0} lr: {1}'.format(epoch, optimizer.param_groups[0]['lr']))\n"
      ],
      "execution_count": null,
      "outputs": [
        {
          "output_type": "stream",
          "text": [
            "Epoch-1 lr: 0.01\n",
            "Epoch-2 lr: 0.01\n",
            "Epoch-3 lr: 0.01\n",
            "Epoch-4 lr: 0.01\n",
            "Epoch-5 lr: 0.02\n",
            "Epoch-6 lr: 0.02\n",
            "Epoch-7 lr: 0.02\n",
            "Epoch-8 lr: 0.02\n",
            "Epoch-9 lr: 0.02\n",
            "Epoch-10 lr: 0.04\n",
            "Epoch-11 lr: 0.04\n",
            "Epoch-12 lr: 0.04\n",
            "Epoch-13 lr: 0.04\n",
            "Epoch-14 lr: 0.04\n",
            "Epoch-15 lr: 0.08\n",
            "Epoch-16 lr: 0.08\n",
            "Epoch-17 lr: 0.08\n",
            "Epoch-18 lr: 0.08\n",
            "Epoch-19 lr: 0.08\n",
            "Epoch-20 lr: 0.16\n"
          ],
          "name": "stdout"
        },
        {
          "output_type": "stream",
          "text": [
            "C:\\ProgramData\\Anaconda3\\lib\\site-packages\\torch\\optim\\lr_scheduler.py:136: UserWarning: Detected call of `lr_scheduler.step()` before `optimizer.step()`. In PyTorch 1.1.0 and later, you should call them in the opposite order: `optimizer.step()` before `lr_scheduler.step()`.  Failure to do this will result in PyTorch skipping the first value of the learning rate schedule. See more details at https://pytorch.org/docs/stable/optim.html#how-to-adjust-learning-rate\n",
            "  \"https://pytorch.org/docs/stable/optim.html#how-to-adjust-learning-rate\", UserWarning)\n"
          ],
          "name": "stderr"
        }
      ]
    },
    {
      "cell_type": "markdown",
      "metadata": {
        "id": "rHc9NLqtkQoD"
      },
      "source": [
        "# k_fold Cross Validation and Hyperparameter Tuning"
      ]
    },
    {
      "cell_type": "code",
      "metadata": {
        "id": "CeC6HvBtkQoD"
      },
      "source": [
        "def train_with_cross_validation(model, parameters):\n",
        "    '''\n",
        "    Perform a K-fold training with CV using the specified parameters.\n",
        "    This is done by splitting the train set into K-different folds, and performing a training and testing step \n",
        "    using the compinations of the folds as new training and validation sets.\n",
        "    \n",
        "    This whole procedure is done using the specified parameters for number of folds, loss function, number of epochs, batch size, and optimizer.\n",
        "    '''\n",
        "    \n",
        "    #Define the Kfold to be used when splitting the training dataset\n",
        "    kfold = KFold(n_splits=parameters[\"folds\"], shuffle = True)\n",
        "    results = {}\n",
        "    \n",
        "    #Itereate K number of times, each time changing the indeces of the train/validation sets\n",
        "    for fold, (train_index, validation_index) in enumerate(kfold.split(train_dataset)):\n",
        "        \n",
        "        print(\" -Fold Nr: \", fold+1)\n",
        "        \n",
        "        # Create the Training and Validation sets, using the assigned indeces\n",
        "        train_subsampler = torch.utils.data.SubsetRandomSampler(train_index)\n",
        "        validation_subsampler = torch.utils.data.SubsetRandomSampler(validation_index)\n",
        "        \n",
        "        #Use the previous datasets to create DataLoaders with the specified batch_size\n",
        "        train_loader_Kfold = torch.utils.data.DataLoader(train_dataset, sampler=train_subsampler, batch_size=parameters[\"batch_size\"], pin_memory=use_gpu)\n",
        "        validation_loader_Kfold  = torch.utils.data.DataLoader(train_dataset, sampler=validation_subsampler, batch_size=parameters[\"batch_size\"], pin_memory=use_gpu)        \n",
        "        \n",
        "\n",
        "        #Reset the model weights for the new iteration\n",
        "        model.apply(reset_weights)\n",
        "        \n",
        "        #Define the criterion, optimizer and scheduler as specified in the parameters\n",
        "        criterion = parameters[\"criterion\"]()\n",
        "\n",
        "        optimizer = parameters[\"optimizer\"](model.parameters(), lr=parameters[\"lr\"])   \n",
        "        \n",
        "        scheduler = parameters[\"scheduler\"](optimizer, **parameters[\"scheduler_parameters\"])\n",
        "       \n",
        "\n",
        "        #Repeat the training step 'epoch'-number of times. Keep track of the accuracy when testing on the current validation set\n",
        "        prev_val_accuracy = 0\n",
        "        for epoch in range(parameters[\"epochs\"]):\n",
        "            \n",
        "            train(model, train_loader_Kfold, criterion, optimizer)\n",
        "            \n",
        "            current_accuracy = 100.0 * (test(model, validation_loader_Kfold))\n",
        "\n",
        "            print(f\"      Epoch: {epoch+1}/{parameters['epochs']}, Validation Score: {current_accuracy:.4}\")\n",
        "\n",
        "            #Early stopping\n",
        "            if(current_accuracy < prev_val_accuracy):\n",
        "              break\n",
        "            prev_val_accuracy = current_accuracy\n",
        "            \n",
        "            scheduler.step()\n",
        "\n",
        "        results[fold] = current_accuracy\n",
        "\n",
        "    # Print fold results\n",
        "    sum = 0.0\n",
        "    for key, value in results.items():\n",
        "        print(f'Fold {key}: {value} %')\n",
        "        sum += value\n",
        "    avg_acc = sum/len(results.items())\n",
        "    print(f'   Average validation score of the {parameters[\"folds\"]} folds : {avg_acc:.4} %')\n",
        "    print('--------------------------------')\n",
        "        \n",
        "    return avg_acc"
      ],
      "execution_count": 35,
      "outputs": []
    },
    {
      "cell_type": "code",
      "metadata": {
        "id": "GkKEiF9ZkQoE"
      },
      "source": [
        "def grid_search(model, parameters):\n",
        "    '''\n",
        "    Perform a grid search on the model using the given parameters, calling K-fold cross validation for each combination. \n",
        "    After all the combinations of parameters have been tried, return the parameters that had the best average validation accuracy.\n",
        "    '''\n",
        "\n",
        "    start_time = time.time()\n",
        "\n",
        "    keys, values = zip(*parameters.items())\n",
        "    permutations_dicts = [dict(zip(keys, v)) for v in itertools.product(*values)]\n",
        "    \n",
        "    best_acc = 0.0\n",
        "    best_settings = {}\n",
        "    \n",
        "    for params in tqdm(permutations_dicts):\n",
        "        print(\"-CURRENT PARAMETERS : \", params)\n",
        "        acc = train_with_cross_validation(model, params)\n",
        "        \n",
        "        if acc > best_acc:\n",
        "            best_acc = acc\n",
        "            best_settings = params\n",
        "    print(f\"Best overall accuracy {best_acc} for these parameters {best_settings}\")\n",
        "    \n",
        "    print(f\"--- Total time: {((time.time() - start_time)/60):.4} minutes ---\" )\n",
        "\n",
        "    return best_settings, best_acc"
      ],
      "execution_count": 36,
      "outputs": []
    },
    {
      "cell_type": "code",
      "metadata": {
        "id": "kR3q3y76kQoE"
      },
      "source": [
        "parameters_SGD_StepLR = {\n",
        "    \"criterion\": [torch.nn.CrossEntropyLoss],\n",
        "    \"optimizer\": [torch.optim.SGD],\n",
        "    \"scheduler\": [StepLR],\n",
        "    \"scheduler_parameters\": [{'step_size':5, 'gamma':1/2}, {'step_size':5, 'gamma':2} ],\n",
        "    \"lr\": [0.1, 0.01, 0.001],\n",
        "    \"batch_size\": [50, 100],\n",
        "    \"folds\": [3],\n",
        "    \"epochs\": [20]\n",
        "}"
      ],
      "execution_count": 37,
      "outputs": []
    },
    {
      "cell_type": "code",
      "metadata": {
        "id": "STRsdq6kkQoF",
        "outputId": "09e3e517-7bf5-4c8d-932b-5db718a64311",
        "colab": {
          "base_uri": "https://localhost:8080/",
          "height": 1000,
          "referenced_widgets": [
            "358e49449765482582945ae298df22e4",
            "aff96cb92cee4c6997ed0e96018923e4",
            "4474440204f9401483f721202e34d441",
            "f2cfac37250248eea142a32be76b537c",
            "6e1a19c8a7e34b0395cf82a02afba304",
            "961ae193a414429c88d15d5029b13430",
            "3bd1506e4fb04c739aa2cbe9b4fa74b4",
            "75b6ecb320bd4e81b55e5b5b58b43552"
          ]
        }
      },
      "source": [
        "model = Net()\n",
        "model.to(device)\n",
        "\n",
        "best_parameters, best_accuracy = grid_search(model, parameters_SGD_StepLR)\n",
        "\n",
        "best_parameters"
      ],
      "execution_count": 38,
      "outputs": [
        {
          "output_type": "display_data",
          "data": {
            "application/vnd.jupyter.widget-view+json": {
              "model_id": "358e49449765482582945ae298df22e4",
              "version_minor": 0,
              "version_major": 2
            },
            "text/plain": [
              "HBox(children=(FloatProgress(value=0.0, max=12.0), HTML(value='')))"
            ]
          },
          "metadata": {
            "tags": []
          }
        },
        {
          "output_type": "stream",
          "text": [
            "-CURRENT PARAMETERS :  {'criterion': <class 'torch.nn.modules.loss.CrossEntropyLoss'>, 'optimizer': <class 'torch.optim.sgd.SGD'>, 'scheduler': <class 'torch.optim.lr_scheduler.StepLR'>, 'scheduler_parameters': {'step_size': 5, 'gamma': 0.5}, 'lr': 0.1, 'batch_size': 50, 'folds': 3, 'epochs': 20}\n",
            " -Fold Nr:  1\n",
            "      Epoch: 1/20, Validation Score: 94.87\n",
            "      Epoch: 2/20, Validation Score: 96.71\n",
            "      Epoch: 3/20, Validation Score: 97.04\n",
            "      Epoch: 4/20, Validation Score: 97.32\n",
            "      Epoch: 5/20, Validation Score: 96.99\n",
            " -Fold Nr:  2\n",
            "      Epoch: 1/20, Validation Score: 94.23\n",
            "      Epoch: 2/20, Validation Score: 96.32\n",
            "      Epoch: 3/20, Validation Score: 97.1\n",
            "      Epoch: 4/20, Validation Score: 97.18\n",
            "      Epoch: 5/20, Validation Score: 97.53\n",
            "      Epoch: 6/20, Validation Score: 97.72\n",
            "      Epoch: 7/20, Validation Score: 97.86\n",
            "      Epoch: 8/20, Validation Score: 97.92\n",
            "      Epoch: 9/20, Validation Score: 97.85\n",
            " -Fold Nr:  3\n",
            "      Epoch: 1/20, Validation Score: 95.1\n",
            "      Epoch: 2/20, Validation Score: 96.64\n",
            "      Epoch: 3/20, Validation Score: 96.52\n",
            "Fold 0: 96.98999786376953 %\n",
            "Fold 1: 97.84500122070312 %\n",
            "Fold 2: 96.52499389648438 %\n",
            "   Average validation score of the 3 folds : 97.12 %\n",
            "--------------------------------\n",
            "-CURRENT PARAMETERS :  {'criterion': <class 'torch.nn.modules.loss.CrossEntropyLoss'>, 'optimizer': <class 'torch.optim.sgd.SGD'>, 'scheduler': <class 'torch.optim.lr_scheduler.StepLR'>, 'scheduler_parameters': {'step_size': 5, 'gamma': 0.5}, 'lr': 0.1, 'batch_size': 100, 'folds': 3, 'epochs': 20}\n",
            " -Fold Nr:  1\n",
            "      Epoch: 1/20, Validation Score: 93.88\n",
            "      Epoch: 2/20, Validation Score: 95.5\n",
            "      Epoch: 3/20, Validation Score: 96.41\n",
            "      Epoch: 4/20, Validation Score: 96.21\n",
            " -Fold Nr:  2\n",
            "      Epoch: 1/20, Validation Score: 93.44\n",
            "      Epoch: 2/20, Validation Score: 95.72\n",
            "      Epoch: 3/20, Validation Score: 96.5\n",
            "      Epoch: 4/20, Validation Score: 96.82\n",
            "      Epoch: 5/20, Validation Score: 97.11\n",
            "      Epoch: 6/20, Validation Score: 97.45\n",
            "      Epoch: 7/20, Validation Score: 97.51\n",
            "      Epoch: 8/20, Validation Score: 97.5\n",
            " -Fold Nr:  3\n",
            "      Epoch: 1/20, Validation Score: 93.99\n",
            "      Epoch: 2/20, Validation Score: 96.09\n",
            "      Epoch: 3/20, Validation Score: 96.41\n",
            "      Epoch: 4/20, Validation Score: 96.68\n",
            "      Epoch: 5/20, Validation Score: 97.15\n",
            "      Epoch: 6/20, Validation Score: 97.45\n",
            "      Epoch: 7/20, Validation Score: 97.57\n",
            "      Epoch: 8/20, Validation Score: 97.63\n",
            "      Epoch: 9/20, Validation Score: 97.72\n",
            "      Epoch: 10/20, Validation Score: 97.76\n",
            "      Epoch: 11/20, Validation Score: 97.81\n",
            "      Epoch: 12/20, Validation Score: 97.81\n",
            "      Epoch: 13/20, Validation Score: 97.85\n",
            "      Epoch: 14/20, Validation Score: 97.85\n",
            "      Epoch: 15/20, Validation Score: 97.86\n",
            "      Epoch: 16/20, Validation Score: 97.92\n",
            "      Epoch: 17/20, Validation Score: 97.89\n",
            "Fold 0: 96.20999908447266 %\n",
            "Fold 1: 97.5 %\n",
            "Fold 2: 97.88999938964844 %\n",
            "   Average validation score of the 3 folds : 97.2 %\n",
            "--------------------------------\n",
            "-CURRENT PARAMETERS :  {'criterion': <class 'torch.nn.modules.loss.CrossEntropyLoss'>, 'optimizer': <class 'torch.optim.sgd.SGD'>, 'scheduler': <class 'torch.optim.lr_scheduler.StepLR'>, 'scheduler_parameters': {'step_size': 5, 'gamma': 0.5}, 'lr': 0.01, 'batch_size': 50, 'folds': 3, 'epochs': 20}\n",
            " -Fold Nr:  1\n",
            "      Epoch: 1/20, Validation Score: 89.8\n",
            "      Epoch: 2/20, Validation Score: 91.56\n",
            "      Epoch: 3/20, Validation Score: 93.15\n",
            "      Epoch: 4/20, Validation Score: 93.86\n",
            "      Epoch: 5/20, Validation Score: 94.59\n",
            "      Epoch: 6/20, Validation Score: 94.82\n",
            "      Epoch: 7/20, Validation Score: 94.88\n",
            "      Epoch: 8/20, Validation Score: 95.16\n",
            "      Epoch: 9/20, Validation Score: 95.37\n",
            "      Epoch: 10/20, Validation Score: 95.55\n",
            "      Epoch: 11/20, Validation Score: 95.63\n",
            "      Epoch: 12/20, Validation Score: 95.64\n",
            "      Epoch: 13/20, Validation Score: 95.75\n",
            "      Epoch: 14/20, Validation Score: 95.79\n",
            "      Epoch: 15/20, Validation Score: 95.81\n",
            "      Epoch: 16/20, Validation Score: 95.91\n",
            "      Epoch: 17/20, Validation Score: 95.92\n",
            "      Epoch: 18/20, Validation Score: 95.96\n",
            "      Epoch: 19/20, Validation Score: 95.97\n",
            "      Epoch: 20/20, Validation Score: 96.03\n",
            " -Fold Nr:  2\n",
            "      Epoch: 1/20, Validation Score: 89.3\n",
            "      Epoch: 2/20, Validation Score: 91.31\n",
            "      Epoch: 3/20, Validation Score: 92.55\n",
            "      Epoch: 4/20, Validation Score: 93.18\n",
            "      Epoch: 5/20, Validation Score: 93.99\n",
            "      Epoch: 6/20, Validation Score: 94.48\n",
            "      Epoch: 7/20, Validation Score: 94.7\n",
            "      Epoch: 8/20, Validation Score: 94.98\n",
            "      Epoch: 9/20, Validation Score: 95.15\n",
            "      Epoch: 10/20, Validation Score: 95.3\n",
            "      Epoch: 11/20, Validation Score: 95.4\n",
            "      Epoch: 12/20, Validation Score: 95.44\n",
            "      Epoch: 13/20, Validation Score: 95.53\n",
            "      Epoch: 14/20, Validation Score: 95.59\n",
            "      Epoch: 15/20, Validation Score: 95.69\n",
            "      Epoch: 16/20, Validation Score: 95.67\n",
            " -Fold Nr:  3\n",
            "      Epoch: 1/20, Validation Score: 88.87\n",
            "      Epoch: 2/20, Validation Score: 91.13\n",
            "      Epoch: 3/20, Validation Score: 92.26\n",
            "      Epoch: 4/20, Validation Score: 93.31\n",
            "      Epoch: 5/20, Validation Score: 94.03\n",
            "      Epoch: 6/20, Validation Score: 94.35\n",
            "      Epoch: 7/20, Validation Score: 94.72\n",
            "      Epoch: 8/20, Validation Score: 94.82\n",
            "      Epoch: 9/20, Validation Score: 94.97\n",
            "      Epoch: 10/20, Validation Score: 95.31\n",
            "      Epoch: 11/20, Validation Score: 95.43\n",
            "      Epoch: 12/20, Validation Score: 95.54\n",
            "      Epoch: 13/20, Validation Score: 95.62\n",
            "      Epoch: 14/20, Validation Score: 95.7\n",
            "      Epoch: 15/20, Validation Score: 95.73\n",
            "      Epoch: 16/20, Validation Score: 95.79\n",
            "      Epoch: 17/20, Validation Score: 95.8\n",
            "      Epoch: 18/20, Validation Score: 95.83\n",
            "      Epoch: 19/20, Validation Score: 95.9\n",
            "      Epoch: 20/20, Validation Score: 95.92\n",
            "Fold 0: 96.03499603271484 %\n",
            "Fold 1: 95.66999816894531 %\n",
            "Fold 2: 95.92499542236328 %\n",
            "   Average validation score of the 3 folds : 95.88 %\n",
            "--------------------------------\n",
            "-CURRENT PARAMETERS :  {'criterion': <class 'torch.nn.modules.loss.CrossEntropyLoss'>, 'optimizer': <class 'torch.optim.sgd.SGD'>, 'scheduler': <class 'torch.optim.lr_scheduler.StepLR'>, 'scheduler_parameters': {'step_size': 5, 'gamma': 0.5}, 'lr': 0.01, 'batch_size': 100, 'folds': 3, 'epochs': 20}\n",
            " -Fold Nr:  1\n",
            "      Epoch: 1/20, Validation Score: 85.93\n",
            "      Epoch: 2/20, Validation Score: 89.35\n",
            "      Epoch: 3/20, Validation Score: 90.57\n",
            "      Epoch: 4/20, Validation Score: 91.43\n",
            "      Epoch: 5/20, Validation Score: 92.08\n",
            "      Epoch: 6/20, Validation Score: 92.52\n",
            "      Epoch: 7/20, Validation Score: 92.84\n",
            "      Epoch: 8/20, Validation Score: 93.05\n",
            "      Epoch: 9/20, Validation Score: 93.28\n",
            "      Epoch: 10/20, Validation Score: 93.47\n",
            "      Epoch: 11/20, Validation Score: 93.57\n",
            "      Epoch: 12/20, Validation Score: 93.76\n",
            "      Epoch: 13/20, Validation Score: 93.73\n",
            " -Fold Nr:  2\n",
            "      Epoch: 1/20, Validation Score: 85.85\n",
            "      Epoch: 2/20, Validation Score: 88.97\n",
            "      Epoch: 3/20, Validation Score: 90.2\n",
            "      Epoch: 4/20, Validation Score: 91.05\n",
            "      Epoch: 5/20, Validation Score: 91.82\n",
            "      Epoch: 6/20, Validation Score: 92.13\n",
            "      Epoch: 7/20, Validation Score: 92.35\n",
            "      Epoch: 8/20, Validation Score: 92.65\n",
            "      Epoch: 9/20, Validation Score: 92.89\n",
            "      Epoch: 10/20, Validation Score: 93.06\n",
            "      Epoch: 11/20, Validation Score: 93.24\n",
            "      Epoch: 12/20, Validation Score: 93.35\n",
            "      Epoch: 13/20, Validation Score: 93.45\n",
            "      Epoch: 14/20, Validation Score: 93.57\n",
            "      Epoch: 15/20, Validation Score: 93.65\n",
            "      Epoch: 16/20, Validation Score: 93.64\n",
            " -Fold Nr:  3\n",
            "      Epoch: 1/20, Validation Score: 87.04\n",
            "      Epoch: 2/20, Validation Score: 90.04\n",
            "      Epoch: 3/20, Validation Score: 91.11\n",
            "      Epoch: 4/20, Validation Score: 91.82\n",
            "      Epoch: 5/20, Validation Score: 92.39\n",
            "      Epoch: 6/20, Validation Score: 92.75\n",
            "      Epoch: 7/20, Validation Score: 92.96\n",
            "      Epoch: 8/20, Validation Score: 93.24\n",
            "      Epoch: 9/20, Validation Score: 93.35\n",
            "      Epoch: 10/20, Validation Score: 93.63\n",
            "      Epoch: 11/20, Validation Score: 93.75\n",
            "      Epoch: 12/20, Validation Score: 93.78\n",
            "      Epoch: 13/20, Validation Score: 93.85\n",
            "      Epoch: 14/20, Validation Score: 93.93\n",
            "      Epoch: 15/20, Validation Score: 93.93\n",
            "      Epoch: 16/20, Validation Score: 94.0\n",
            "      Epoch: 17/20, Validation Score: 94.03\n",
            "      Epoch: 18/20, Validation Score: 94.08\n",
            "      Epoch: 19/20, Validation Score: 94.14\n",
            "      Epoch: 20/20, Validation Score: 94.17\n",
            "Fold 0: 93.72999572753906 %\n",
            "Fold 1: 93.63999938964844 %\n",
            "Fold 2: 94.16999816894531 %\n",
            "   Average validation score of the 3 folds : 93.85 %\n",
            "--------------------------------\n",
            "-CURRENT PARAMETERS :  {'criterion': <class 'torch.nn.modules.loss.CrossEntropyLoss'>, 'optimizer': <class 'torch.optim.sgd.SGD'>, 'scheduler': <class 'torch.optim.lr_scheduler.StepLR'>, 'scheduler_parameters': {'step_size': 5, 'gamma': 0.5}, 'lr': 0.001, 'batch_size': 50, 'folds': 3, 'epochs': 20}\n",
            " -Fold Nr:  1\n",
            "      Epoch: 1/20, Validation Score: 59.86\n",
            "      Epoch: 2/20, Validation Score: 75.48\n",
            "      Epoch: 3/20, Validation Score: 82.54\n",
            "      Epoch: 4/20, Validation Score: 85.03\n",
            "      Epoch: 5/20, Validation Score: 86.88\n",
            "      Epoch: 6/20, Validation Score: 87.25\n",
            "      Epoch: 7/20, Validation Score: 87.63\n",
            "      Epoch: 8/20, Validation Score: 87.99\n",
            "      Epoch: 9/20, Validation Score: 88.31\n",
            "      Epoch: 10/20, Validation Score: 88.45\n",
            "      Epoch: 11/20, Validation Score: 88.66\n",
            "      Epoch: 12/20, Validation Score: 88.74\n",
            "      Epoch: 13/20, Validation Score: 88.85\n",
            "      Epoch: 14/20, Validation Score: 88.89\n",
            "      Epoch: 15/20, Validation Score: 88.99\n",
            "      Epoch: 16/20, Validation Score: 89.03\n",
            "      Epoch: 17/20, Validation Score: 89.05\n",
            "      Epoch: 18/20, Validation Score: 89.09\n",
            "      Epoch: 19/20, Validation Score: 89.16\n",
            "      Epoch: 20/20, Validation Score: 89.24\n",
            " -Fold Nr:  2\n",
            "      Epoch: 1/20, Validation Score: 65.1\n",
            "      Epoch: 2/20, Validation Score: 75.63\n",
            "      Epoch: 3/20, Validation Score: 81.77\n",
            "      Epoch: 4/20, Validation Score: 84.44\n",
            "      Epoch: 5/20, Validation Score: 86.15\n",
            "      Epoch: 6/20, Validation Score: 86.75\n",
            "      Epoch: 7/20, Validation Score: 87.32\n",
            "      Epoch: 8/20, Validation Score: 87.81\n",
            "      Epoch: 9/20, Validation Score: 88.23\n",
            "      Epoch: 10/20, Validation Score: 88.54\n",
            "      Epoch: 11/20, Validation Score: 88.8\n",
            "      Epoch: 12/20, Validation Score: 88.9\n",
            "      Epoch: 13/20, Validation Score: 89.05\n",
            "      Epoch: 14/20, Validation Score: 89.22\n",
            "      Epoch: 15/20, Validation Score: 89.37\n",
            "      Epoch: 16/20, Validation Score: 89.46\n",
            "      Epoch: 17/20, Validation Score: 89.5\n",
            "      Epoch: 18/20, Validation Score: 89.56\n",
            "      Epoch: 19/20, Validation Score: 89.59\n",
            "      Epoch: 20/20, Validation Score: 89.69\n",
            " -Fold Nr:  3\n",
            "      Epoch: 1/20, Validation Score: 62.08\n",
            "      Epoch: 2/20, Validation Score: 73.25\n",
            "      Epoch: 3/20, Validation Score: 80.28\n",
            "      Epoch: 4/20, Validation Score: 84.11\n",
            "      Epoch: 5/20, Validation Score: 86.12\n",
            "      Epoch: 6/20, Validation Score: 86.67\n",
            "      Epoch: 7/20, Validation Score: 87.17\n",
            "      Epoch: 8/20, Validation Score: 87.58\n",
            "      Epoch: 9/20, Validation Score: 87.95\n",
            "      Epoch: 10/20, Validation Score: 88.35\n",
            "      Epoch: 11/20, Validation Score: 88.48\n",
            "      Epoch: 12/20, Validation Score: 88.57\n",
            "      Epoch: 13/20, Validation Score: 88.69\n",
            "      Epoch: 14/20, Validation Score: 88.79\n",
            "      Epoch: 15/20, Validation Score: 88.95\n",
            "      Epoch: 16/20, Validation Score: 89.01\n",
            "      Epoch: 17/20, Validation Score: 89.03\n",
            "      Epoch: 18/20, Validation Score: 89.1\n",
            "      Epoch: 19/20, Validation Score: 89.15\n",
            "      Epoch: 20/20, Validation Score: 89.18\n",
            "Fold 0: 89.23999786376953 %\n",
            "Fold 1: 89.69000244140625 %\n",
            "Fold 2: 89.18499755859375 %\n",
            "   Average validation score of the 3 folds : 89.37 %\n",
            "--------------------------------\n",
            "-CURRENT PARAMETERS :  {'criterion': <class 'torch.nn.modules.loss.CrossEntropyLoss'>, 'optimizer': <class 'torch.optim.sgd.SGD'>, 'scheduler': <class 'torch.optim.lr_scheduler.StepLR'>, 'scheduler_parameters': {'step_size': 5, 'gamma': 0.5}, 'lr': 0.001, 'batch_size': 100, 'folds': 3, 'epochs': 20}\n",
            " -Fold Nr:  1\n",
            "      Epoch: 1/20, Validation Score: 37.86\n",
            "      Epoch: 2/20, Validation Score: 59.22\n",
            "      Epoch: 3/20, Validation Score: 68.05\n",
            "      Epoch: 4/20, Validation Score: 73.25\n",
            "      Epoch: 5/20, Validation Score: 77.76\n",
            "      Epoch: 6/20, Validation Score: 79.24\n",
            "      Epoch: 7/20, Validation Score: 80.42\n",
            "      Epoch: 8/20, Validation Score: 81.36\n",
            "      Epoch: 9/20, Validation Score: 82.34\n",
            "      Epoch: 10/20, Validation Score: 83.2\n",
            "      Epoch: 11/20, Validation Score: 83.53\n",
            "      Epoch: 12/20, Validation Score: 83.71\n",
            "      Epoch: 13/20, Validation Score: 84.08\n",
            "      Epoch: 14/20, Validation Score: 84.35\n",
            "      Epoch: 15/20, Validation Score: 84.6\n",
            "      Epoch: 16/20, Validation Score: 84.7\n",
            "      Epoch: 17/20, Validation Score: 84.85\n",
            "      Epoch: 18/20, Validation Score: 85.03\n",
            "      Epoch: 19/20, Validation Score: 85.11\n",
            "      Epoch: 20/20, Validation Score: 85.24\n",
            " -Fold Nr:  2\n",
            "      Epoch: 1/20, Validation Score: 38.62\n",
            "      Epoch: 2/20, Validation Score: 60.08\n",
            "      Epoch: 3/20, Validation Score: 66.75\n",
            "      Epoch: 4/20, Validation Score: 71.28\n",
            "      Epoch: 5/20, Validation Score: 75.33\n",
            "      Epoch: 6/20, Validation Score: 77.28\n",
            "      Epoch: 7/20, Validation Score: 79.11\n",
            "      Epoch: 8/20, Validation Score: 80.8\n",
            "      Epoch: 9/20, Validation Score: 82.26\n",
            "      Epoch: 10/20, Validation Score: 83.08\n",
            "      Epoch: 11/20, Validation Score: 83.63\n",
            "      Epoch: 12/20, Validation Score: 84.07\n",
            "      Epoch: 13/20, Validation Score: 84.41\n",
            "      Epoch: 14/20, Validation Score: 84.78\n",
            "      Epoch: 15/20, Validation Score: 85.06\n",
            "      Epoch: 16/20, Validation Score: 85.22\n",
            "      Epoch: 17/20, Validation Score: 85.43\n",
            "      Epoch: 18/20, Validation Score: 85.57\n",
            "      Epoch: 19/20, Validation Score: 85.64\n",
            "      Epoch: 20/20, Validation Score: 85.75\n",
            " -Fold Nr:  3\n",
            "      Epoch: 1/20, Validation Score: 38.05\n",
            "      Epoch: 2/20, Validation Score: 62.44\n",
            "      Epoch: 3/20, Validation Score: 69.01\n",
            "      Epoch: 4/20, Validation Score: 73.99\n",
            "      Epoch: 5/20, Validation Score: 78.2\n",
            "      Epoch: 6/20, Validation Score: 79.88\n",
            "      Epoch: 7/20, Validation Score: 81.29\n",
            "      Epoch: 8/20, Validation Score: 82.22\n",
            "      Epoch: 9/20, Validation Score: 83.26\n",
            "      Epoch: 10/20, Validation Score: 83.93\n",
            "      Epoch: 11/20, Validation Score: 84.24\n",
            "      Epoch: 12/20, Validation Score: 84.57\n",
            "      Epoch: 13/20, Validation Score: 84.79\n",
            "      Epoch: 14/20, Validation Score: 85.04\n",
            "      Epoch: 15/20, Validation Score: 85.28\n",
            "      Epoch: 16/20, Validation Score: 85.42\n",
            "      Epoch: 17/20, Validation Score: 85.6\n",
            "      Epoch: 18/20, Validation Score: 85.69\n",
            "      Epoch: 19/20, Validation Score: 85.79\n",
            "      Epoch: 20/20, Validation Score: 85.86\n",
            "Fold 0: 85.23500061035156 %\n",
            "Fold 1: 85.74999237060547 %\n",
            "Fold 2: 85.86499786376953 %\n",
            "   Average validation score of the 3 folds : 85.62 %\n",
            "--------------------------------\n",
            "-CURRENT PARAMETERS :  {'criterion': <class 'torch.nn.modules.loss.CrossEntropyLoss'>, 'optimizer': <class 'torch.optim.sgd.SGD'>, 'scheduler': <class 'torch.optim.lr_scheduler.StepLR'>, 'scheduler_parameters': {'step_size': 5, 'gamma': 2}, 'lr': 0.1, 'batch_size': 50, 'folds': 3, 'epochs': 20}\n",
            " -Fold Nr:  1\n",
            "      Epoch: 1/20, Validation Score: 95.12\n",
            "      Epoch: 2/20, Validation Score: 96.5\n",
            "      Epoch: 3/20, Validation Score: 96.65\n",
            "      Epoch: 4/20, Validation Score: 97.28\n",
            "      Epoch: 5/20, Validation Score: 97.3\n",
            "      Epoch: 6/20, Validation Score: 96.8\n",
            " -Fold Nr:  2\n",
            "      Epoch: 1/20, Validation Score: 95.26\n",
            "      Epoch: 2/20, Validation Score: 96.81\n",
            "      Epoch: 3/20, Validation Score: 96.19\n",
            " -Fold Nr:  3\n",
            "      Epoch: 1/20, Validation Score: 95.04\n",
            "      Epoch: 2/20, Validation Score: 96.76\n",
            "      Epoch: 3/20, Validation Score: 96.71\n",
            "Fold 0: 96.80000305175781 %\n",
            "Fold 1: 96.19000244140625 %\n",
            "Fold 2: 96.70999908447266 %\n",
            "   Average validation score of the 3 folds : 96.57 %\n",
            "--------------------------------\n",
            "-CURRENT PARAMETERS :  {'criterion': <class 'torch.nn.modules.loss.CrossEntropyLoss'>, 'optimizer': <class 'torch.optim.sgd.SGD'>, 'scheduler': <class 'torch.optim.lr_scheduler.StepLR'>, 'scheduler_parameters': {'step_size': 5, 'gamma': 2}, 'lr': 0.1, 'batch_size': 100, 'folds': 3, 'epochs': 20}\n",
            " -Fold Nr:  1\n",
            "      Epoch: 1/20, Validation Score: 93.43\n",
            "      Epoch: 2/20, Validation Score: 94.97\n",
            "      Epoch: 3/20, Validation Score: 96.47\n",
            "      Epoch: 4/20, Validation Score: 96.96\n",
            "      Epoch: 5/20, Validation Score: 97.12\n",
            "      Epoch: 6/20, Validation Score: 96.16\n",
            " -Fold Nr:  2\n",
            "      Epoch: 1/20, Validation Score: 93.75\n",
            "      Epoch: 2/20, Validation Score: 95.48\n",
            "      Epoch: 3/20, Validation Score: 96.53\n",
            "      Epoch: 4/20, Validation Score: 96.85\n",
            "      Epoch: 5/20, Validation Score: 97.02\n",
            "      Epoch: 6/20, Validation Score: 96.89\n",
            " -Fold Nr:  3\n",
            "      Epoch: 1/20, Validation Score: 93.65\n",
            "      Epoch: 2/20, Validation Score: 95.54\n",
            "      Epoch: 3/20, Validation Score: 96.42\n",
            "      Epoch: 4/20, Validation Score: 96.95\n",
            "      Epoch: 5/20, Validation Score: 97.0\n",
            "      Epoch: 6/20, Validation Score: 96.71\n",
            "Fold 0: 96.16499328613281 %\n",
            "Fold 1: 96.88999938964844 %\n",
            "Fold 2: 96.70999908447266 %\n",
            "   Average validation score of the 3 folds : 96.59 %\n",
            "--------------------------------\n",
            "-CURRENT PARAMETERS :  {'criterion': <class 'torch.nn.modules.loss.CrossEntropyLoss'>, 'optimizer': <class 'torch.optim.sgd.SGD'>, 'scheduler': <class 'torch.optim.lr_scheduler.StepLR'>, 'scheduler_parameters': {'step_size': 5, 'gamma': 2}, 'lr': 0.01, 'batch_size': 50, 'folds': 3, 'epochs': 20}\n",
            " -Fold Nr:  1\n",
            "      Epoch: 1/20, Validation Score: 89.68\n",
            "      Epoch: 2/20, Validation Score: 91.37\n",
            "      Epoch: 3/20, Validation Score: 92.61\n",
            "      Epoch: 4/20, Validation Score: 93.46\n",
            "      Epoch: 5/20, Validation Score: 94.07\n",
            "      Epoch: 6/20, Validation Score: 95.06\n",
            "      Epoch: 7/20, Validation Score: 95.63\n",
            "      Epoch: 8/20, Validation Score: 96.01\n",
            "      Epoch: 9/20, Validation Score: 96.46\n",
            "      Epoch: 10/20, Validation Score: 96.73\n",
            "      Epoch: 11/20, Validation Score: 96.4\n",
            " -Fold Nr:  2\n",
            "      Epoch: 1/20, Validation Score: 89.54\n",
            "      Epoch: 2/20, Validation Score: 91.38\n",
            "      Epoch: 3/20, Validation Score: 92.57\n",
            "      Epoch: 4/20, Validation Score: 93.44\n",
            "      Epoch: 5/20, Validation Score: 93.99\n",
            "      Epoch: 6/20, Validation Score: 94.79\n",
            "      Epoch: 7/20, Validation Score: 95.8\n",
            "      Epoch: 8/20, Validation Score: 95.94\n",
            "      Epoch: 9/20, Validation Score: 96.41\n",
            "      Epoch: 10/20, Validation Score: 96.31\n",
            " -Fold Nr:  3\n",
            "      Epoch: 1/20, Validation Score: 89.04\n",
            "      Epoch: 2/20, Validation Score: 91.18\n",
            "      Epoch: 3/20, Validation Score: 92.56\n",
            "      Epoch: 4/20, Validation Score: 93.36\n",
            "      Epoch: 5/20, Validation Score: 94.16\n",
            "      Epoch: 6/20, Validation Score: 94.73\n",
            "      Epoch: 7/20, Validation Score: 95.52\n",
            "      Epoch: 8/20, Validation Score: 95.97\n",
            "      Epoch: 9/20, Validation Score: 96.34\n",
            "      Epoch: 10/20, Validation Score: 96.51\n",
            "      Epoch: 11/20, Validation Score: 96.54\n",
            "      Epoch: 12/20, Validation Score: 96.83\n",
            "      Epoch: 13/20, Validation Score: 97.29\n",
            "      Epoch: 14/20, Validation Score: 97.04\n",
            "Fold 0: 96.40499877929688 %\n",
            "Fold 1: 96.30999755859375 %\n",
            "Fold 2: 97.04499816894531 %\n",
            "   Average validation score of the 3 folds : 96.59 %\n",
            "--------------------------------\n",
            "-CURRENT PARAMETERS :  {'criterion': <class 'torch.nn.modules.loss.CrossEntropyLoss'>, 'optimizer': <class 'torch.optim.sgd.SGD'>, 'scheduler': <class 'torch.optim.lr_scheduler.StepLR'>, 'scheduler_parameters': {'step_size': 5, 'gamma': 2}, 'lr': 0.01, 'batch_size': 100, 'folds': 3, 'epochs': 20}\n",
            " -Fold Nr:  1\n",
            "      Epoch: 1/20, Validation Score: 85.5\n",
            "      Epoch: 2/20, Validation Score: 89.49\n",
            "      Epoch: 3/20, Validation Score: 90.5\n",
            "      Epoch: 4/20, Validation Score: 91.49\n",
            "      Epoch: 5/20, Validation Score: 91.93\n",
            "      Epoch: 6/20, Validation Score: 92.43\n",
            "      Epoch: 7/20, Validation Score: 93.76\n",
            "      Epoch: 8/20, Validation Score: 94.31\n",
            "      Epoch: 9/20, Validation Score: 94.77\n",
            "      Epoch: 10/20, Validation Score: 95.35\n",
            "      Epoch: 11/20, Validation Score: 95.78\n",
            "      Epoch: 12/20, Validation Score: 96.13\n",
            "      Epoch: 13/20, Validation Score: 96.47\n",
            "      Epoch: 14/20, Validation Score: 96.68\n",
            "      Epoch: 15/20, Validation Score: 96.82\n",
            "      Epoch: 16/20, Validation Score: 96.9\n",
            "      Epoch: 17/20, Validation Score: 96.64\n",
            " -Fold Nr:  2\n",
            "      Epoch: 1/20, Validation Score: 85.74\n",
            "      Epoch: 2/20, Validation Score: 89.43\n",
            "      Epoch: 3/20, Validation Score: 90.89\n",
            "      Epoch: 4/20, Validation Score: 91.68\n",
            "      Epoch: 5/20, Validation Score: 92.33\n",
            "      Epoch: 6/20, Validation Score: 93.1\n",
            "      Epoch: 7/20, Validation Score: 94.17\n",
            "      Epoch: 8/20, Validation Score: 94.68\n",
            "      Epoch: 9/20, Validation Score: 95.16\n",
            "      Epoch: 10/20, Validation Score: 95.62\n",
            "      Epoch: 11/20, Validation Score: 95.13\n",
            " -Fold Nr:  3\n",
            "      Epoch: 1/20, Validation Score: 86.51\n",
            "      Epoch: 2/20, Validation Score: 89.49\n",
            "      Epoch: 3/20, Validation Score: 90.65\n",
            "      Epoch: 4/20, Validation Score: 91.37\n",
            "      Epoch: 5/20, Validation Score: 92.03\n",
            "      Epoch: 6/20, Validation Score: 92.95\n",
            "      Epoch: 7/20, Validation Score: 93.52\n",
            "      Epoch: 8/20, Validation Score: 94.24\n",
            "      Epoch: 9/20, Validation Score: 94.7\n",
            "      Epoch: 10/20, Validation Score: 95.11\n",
            "      Epoch: 11/20, Validation Score: 95.62\n",
            "      Epoch: 12/20, Validation Score: 96.05\n",
            "      Epoch: 13/20, Validation Score: 96.16\n",
            "      Epoch: 14/20, Validation Score: 96.61\n",
            "      Epoch: 15/20, Validation Score: 96.67\n",
            "      Epoch: 16/20, Validation Score: 96.85\n",
            "      Epoch: 17/20, Validation Score: 96.76\n",
            "Fold 0: 96.63999938964844 %\n",
            "Fold 1: 95.12999725341797 %\n",
            "Fold 2: 96.76000213623047 %\n",
            "   Average validation score of the 3 folds : 96.18 %\n",
            "--------------------------------\n",
            "-CURRENT PARAMETERS :  {'criterion': <class 'torch.nn.modules.loss.CrossEntropyLoss'>, 'optimizer': <class 'torch.optim.sgd.SGD'>, 'scheduler': <class 'torch.optim.lr_scheduler.StepLR'>, 'scheduler_parameters': {'step_size': 5, 'gamma': 2}, 'lr': 0.001, 'batch_size': 50, 'folds': 3, 'epochs': 20}\n",
            " -Fold Nr:  1\n",
            "      Epoch: 1/20, Validation Score: 57.28\n",
            "      Epoch: 2/20, Validation Score: 69.89\n",
            "      Epoch: 3/20, Validation Score: 81.51\n",
            "      Epoch: 4/20, Validation Score: 84.78\n",
            "      Epoch: 5/20, Validation Score: 86.47\n",
            "      Epoch: 6/20, Validation Score: 88.19\n",
            "      Epoch: 7/20, Validation Score: 89.1\n",
            "      Epoch: 8/20, Validation Score: 89.76\n",
            "      Epoch: 9/20, Validation Score: 90.21\n",
            "      Epoch: 10/20, Validation Score: 90.44\n",
            "      Epoch: 11/20, Validation Score: 91.2\n",
            "      Epoch: 12/20, Validation Score: 91.75\n",
            "      Epoch: 13/20, Validation Score: 92.07\n",
            "      Epoch: 14/20, Validation Score: 92.43\n",
            "      Epoch: 15/20, Validation Score: 92.78\n",
            "      Epoch: 16/20, Validation Score: 93.39\n",
            "      Epoch: 17/20, Validation Score: 94.01\n",
            "      Epoch: 18/20, Validation Score: 94.5\n",
            "      Epoch: 19/20, Validation Score: 94.8\n",
            "      Epoch: 20/20, Validation Score: 94.86\n",
            " -Fold Nr:  2\n",
            "      Epoch: 1/20, Validation Score: 62.16\n",
            "      Epoch: 2/20, Validation Score: 70.84\n",
            "      Epoch: 3/20, Validation Score: 76.75\n",
            "      Epoch: 4/20, Validation Score: 82.45\n",
            "      Epoch: 5/20, Validation Score: 85.02\n",
            "      Epoch: 6/20, Validation Score: 87.92\n",
            "      Epoch: 7/20, Validation Score: 89.26\n",
            "      Epoch: 8/20, Validation Score: 89.88\n",
            "      Epoch: 9/20, Validation Score: 90.53\n",
            "      Epoch: 10/20, Validation Score: 90.95\n",
            "      Epoch: 11/20, Validation Score: 91.69\n",
            "      Epoch: 12/20, Validation Score: 92.14\n",
            "      Epoch: 13/20, Validation Score: 92.56\n",
            "      Epoch: 14/20, Validation Score: 92.92\n",
            "      Epoch: 15/20, Validation Score: 93.45\n",
            "      Epoch: 16/20, Validation Score: 93.92\n",
            "      Epoch: 17/20, Validation Score: 94.21\n",
            "      Epoch: 18/20, Validation Score: 94.59\n",
            "      Epoch: 19/20, Validation Score: 94.88\n",
            "      Epoch: 20/20, Validation Score: 95.28\n",
            " -Fold Nr:  3\n",
            "      Epoch: 1/20, Validation Score: 53.8\n",
            "      Epoch: 2/20, Validation Score: 74.57\n",
            "      Epoch: 3/20, Validation Score: 80.99\n",
            "      Epoch: 4/20, Validation Score: 84.06\n",
            "      Epoch: 5/20, Validation Score: 86.14\n",
            "      Epoch: 6/20, Validation Score: 88.33\n",
            "      Epoch: 7/20, Validation Score: 89.26\n",
            "      Epoch: 8/20, Validation Score: 89.97\n",
            "      Epoch: 9/20, Validation Score: 90.34\n",
            "      Epoch: 10/20, Validation Score: 90.92\n",
            "      Epoch: 11/20, Validation Score: 91.64\n",
            "      Epoch: 12/20, Validation Score: 92.26\n",
            "      Epoch: 13/20, Validation Score: 92.54\n",
            "      Epoch: 14/20, Validation Score: 93.0\n",
            "      Epoch: 15/20, Validation Score: 93.4\n",
            "      Epoch: 16/20, Validation Score: 94.04\n",
            "      Epoch: 17/20, Validation Score: 94.53\n",
            "      Epoch: 18/20, Validation Score: 94.88\n",
            "      Epoch: 19/20, Validation Score: 95.1\n",
            "      Epoch: 20/20, Validation Score: 95.65\n",
            "Fold 0: 94.86499786376953 %\n",
            "Fold 1: 95.27999877929688 %\n",
            "Fold 2: 95.6500015258789 %\n",
            "   Average validation score of the 3 folds : 95.26 %\n",
            "--------------------------------\n",
            "-CURRENT PARAMETERS :  {'criterion': <class 'torch.nn.modules.loss.CrossEntropyLoss'>, 'optimizer': <class 'torch.optim.sgd.SGD'>, 'scheduler': <class 'torch.optim.lr_scheduler.StepLR'>, 'scheduler_parameters': {'step_size': 5, 'gamma': 2}, 'lr': 0.001, 'batch_size': 100, 'folds': 3, 'epochs': 20}\n",
            " -Fold Nr:  1\n",
            "      Epoch: 1/20, Validation Score: 41.83\n",
            "      Epoch: 2/20, Validation Score: 60.83\n",
            "      Epoch: 3/20, Validation Score: 69.9\n",
            "      Epoch: 4/20, Validation Score: 76.06\n",
            "      Epoch: 5/20, Validation Score: 80.44\n",
            "      Epoch: 6/20, Validation Score: 84.16\n",
            "      Epoch: 7/20, Validation Score: 86.18\n",
            "      Epoch: 8/20, Validation Score: 87.56\n",
            "      Epoch: 9/20, Validation Score: 88.17\n",
            "      Epoch: 10/20, Validation Score: 88.9\n",
            "      Epoch: 11/20, Validation Score: 89.66\n",
            "      Epoch: 12/20, Validation Score: 90.23\n",
            "      Epoch: 13/20, Validation Score: 90.69\n",
            "      Epoch: 14/20, Validation Score: 91.12\n",
            "      Epoch: 15/20, Validation Score: 91.28\n",
            "      Epoch: 16/20, Validation Score: 91.81\n",
            "      Epoch: 17/20, Validation Score: 92.37\n",
            "      Epoch: 18/20, Validation Score: 92.75\n",
            "      Epoch: 19/20, Validation Score: 93.06\n",
            "      Epoch: 20/20, Validation Score: 93.25\n",
            " -Fold Nr:  2\n",
            "      Epoch: 1/20, Validation Score: 41.93\n",
            "      Epoch: 2/20, Validation Score: 62.59\n",
            "      Epoch: 3/20, Validation Score: 70.95\n",
            "      Epoch: 4/20, Validation Score: 75.42\n",
            "      Epoch: 5/20, Validation Score: 77.64\n",
            "      Epoch: 6/20, Validation Score: 82.07\n",
            "      Epoch: 7/20, Validation Score: 84.53\n",
            "      Epoch: 8/20, Validation Score: 86.22\n",
            "      Epoch: 9/20, Validation Score: 87.36\n",
            "      Epoch: 10/20, Validation Score: 88.07\n",
            "      Epoch: 11/20, Validation Score: 89.08\n",
            "      Epoch: 12/20, Validation Score: 89.66\n",
            "      Epoch: 13/20, Validation Score: 90.12\n",
            "      Epoch: 14/20, Validation Score: 90.49\n",
            "      Epoch: 15/20, Validation Score: 90.75\n",
            "      Epoch: 16/20, Validation Score: 91.31\n",
            "      Epoch: 17/20, Validation Score: 91.82\n",
            "      Epoch: 18/20, Validation Score: 92.26\n",
            "      Epoch: 19/20, Validation Score: 92.69\n",
            "      Epoch: 20/20, Validation Score: 93.07\n",
            " -Fold Nr:  3\n",
            "      Epoch: 1/20, Validation Score: 44.23\n",
            "      Epoch: 2/20, Validation Score: 61.53\n",
            "      Epoch: 3/20, Validation Score: 67.93\n",
            "      Epoch: 4/20, Validation Score: 73.01\n",
            "      Epoch: 5/20, Validation Score: 78.42\n",
            "      Epoch: 6/20, Validation Score: 83.34\n",
            "      Epoch: 7/20, Validation Score: 85.67\n",
            "      Epoch: 8/20, Validation Score: 87.01\n",
            "      Epoch: 9/20, Validation Score: 87.98\n",
            "      Epoch: 10/20, Validation Score: 88.47\n",
            "      Epoch: 11/20, Validation Score: 89.3\n",
            "      Epoch: 12/20, Validation Score: 89.85\n",
            "      Epoch: 13/20, Validation Score: 90.41\n",
            "      Epoch: 14/20, Validation Score: 90.87\n",
            "      Epoch: 15/20, Validation Score: 91.06\n",
            "      Epoch: 16/20, Validation Score: 91.68\n",
            "      Epoch: 17/20, Validation Score: 92.18\n",
            "      Epoch: 18/20, Validation Score: 92.71\n",
            "      Epoch: 19/20, Validation Score: 92.97\n",
            "      Epoch: 20/20, Validation Score: 93.27\n",
            "Fold 0: 93.25 %\n",
            "Fold 1: 93.06500244140625 %\n",
            "Fold 2: 93.2699966430664 %\n",
            "   Average validation score of the 3 folds : 93.19 %\n",
            "--------------------------------\n",
            "\n",
            "Best overall accuracy 97.19999694824219 for these parameters {'criterion': <class 'torch.nn.modules.loss.CrossEntropyLoss'>, 'optimizer': <class 'torch.optim.sgd.SGD'>, 'scheduler': <class 'torch.optim.lr_scheduler.StepLR'>, 'scheduler_parameters': {'step_size': 5, 'gamma': 0.5}, 'lr': 0.1, 'batch_size': 100, 'folds': 3, 'epochs': 20}\n",
            "--- Total time: 109.5 minutes ---\n"
          ],
          "name": "stdout"
        },
        {
          "output_type": "execute_result",
          "data": {
            "text/plain": [
              "{'batch_size': 100,\n",
              " 'criterion': torch.nn.modules.loss.CrossEntropyLoss,\n",
              " 'epochs': 20,\n",
              " 'folds': 3,\n",
              " 'lr': 0.1,\n",
              " 'optimizer': torch.optim.sgd.SGD,\n",
              " 'scheduler': torch.optim.lr_scheduler.StepLR,\n",
              " 'scheduler_parameters': {'gamma': 0.5, 'step_size': 5}}"
            ]
          },
          "metadata": {
            "tags": []
          },
          "execution_count": 38
        }
      ]
    },
    {
      "cell_type": "code",
      "metadata": {
        "id": "VzqnWam9kQoF",
        "outputId": "73afafff-b6e3-4706-8245-9b2357e061b7",
        "colab": {
          "base_uri": "https://localhost:8080/"
        }
      },
      "source": [
        "best_accuracy"
      ],
      "execution_count": 39,
      "outputs": [
        {
          "output_type": "execute_result",
          "data": {
            "text/plain": [
              "tensor(97.2000, device='cuda:0')"
            ]
          },
          "metadata": {
            "tags": []
          },
          "execution_count": 39
        }
      ]
    },
    {
      "cell_type": "code",
      "metadata": {
        "id": "OARKrUsJV1JC",
        "outputId": "6cd309e9-2bba-4d16-80fc-314deb673b18",
        "colab": {
          "base_uri": "https://localhost:8080/"
        }
      },
      "source": [
        "best_parameters"
      ],
      "execution_count": 40,
      "outputs": [
        {
          "output_type": "execute_result",
          "data": {
            "text/plain": [
              "{'batch_size': 100,\n",
              " 'criterion': torch.nn.modules.loss.CrossEntropyLoss,\n",
              " 'epochs': 20,\n",
              " 'folds': 3,\n",
              " 'lr': 0.1,\n",
              " 'optimizer': torch.optim.sgd.SGD,\n",
              " 'scheduler': torch.optim.lr_scheduler.StepLR,\n",
              " 'scheduler_parameters': {'gamma': 0.5, 'step_size': 5}}"
            ]
          },
          "metadata": {
            "tags": []
          },
          "execution_count": 40
        }
      ]
    },
    {
      "cell_type": "code",
      "metadata": {
        "id": "M-mkHoD0kQoF",
        "outputId": "853e6721-7b6c-426c-8430-97f389772cd6",
        "colab": {
          "base_uri": "https://localhost:8080/"
        }
      },
      "source": [
        "best_parameters"
      ],
      "execution_count": 24,
      "outputs": [
        {
          "output_type": "execute_result",
          "data": {
            "text/plain": [
              "{'batch_size': 50,\n",
              " 'criterion': torch.nn.modules.loss.CrossEntropyLoss,\n",
              " 'epochs': 20,\n",
              " 'folds': 3,\n",
              " 'lr': 0.1,\n",
              " 'optimizer': torch.optim.sgd.SGD,\n",
              " 'scheduler': torch.optim.lr_scheduler.StepLR,\n",
              " 'scheduler_parameters': {'gamma': 0.5, 'step_size': 5}}"
            ]
          },
          "metadata": {
            "tags": []
          },
          "execution_count": 24
        }
      ]
    },
    {
      "cell_type": "code",
      "metadata": {
        "id": "ylI4PqbbQ_ML"
      },
      "source": [
        ""
      ],
      "execution_count": null,
      "outputs": []
    }
  ]
}